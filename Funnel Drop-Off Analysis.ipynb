{
 "cells": [
  {
   "cell_type": "markdown",
   "id": "0e31df61-5819-4f7c-8b9e-b928f9d00a0e",
   "metadata": {},
   "source": [
    "# Delta Drive Data Project: Funnel Drop-Off Analysis from 42M Ecommerce Events\r\n",
    "\r\n",
    "## 🔵 Project Title\r\n",
    "**Understanding Customer Drop-Off in E-Commerce Funnels Using Event-Level Data**\r\n",
    "\r\n",
    "## 🟣 Brand Tagline\r\n",
    "**Design, Innovate, and Deliver Smart, Data-Driven Solutions**\r\n",
    "\r\n",
    "## 🟢 Objective\r\n",
    "To uncover where and why potential buyers drop off in the customer journey using a real-world dataset of over 42 million user interactions from an e-commerce platform. This project will help businesses optimize their sales funnels and boost conversions.\r\n",
    "\r\n",
    "## 🟡 Goals\r\n",
    "\r\n",
    "- Load and clean raw event data using Python\r\n",
    "- Map user behavior across key funnel stages: `view`, `cart`, and `purchase`\r\n",
    "- Measure and visualize drop-off rates at each stage\r\n",
    "- Segment funnel performance by producate, and session\r\n",
    "- Export funnel insights for interactive Power BI dashboards\r\n",
    "- Share actionable recommendations for reducing drop-offs\r\n",
    "- Publish project as a blog post or case study under the Delta Drive brand\r\n",
    "\r\n",
    "## 🟠 Tools & Stack\r\n",
    "- Python (Pandas, Matplotlib/Seaborn)\r\n",
    "- Power BI\r\n",
    "- Jupyter Notebook or Google Colab\r\n",
    "- Dataset: [Kaggle E-Commerce Behavior Data](https://www.kaggle.com/datasets/mkechinov/ecommerce-behavior-data-from-multi-category-store)\r\n",
    "\r\n",
    "## 🔵 Why This Matters\r\n",
    "Small and medium-sized businesses often lose customers between product views and purchases. This project gives a data-backed view of how to fix that — helping businesses increase revenue by understanding customer behavior.\r\n",
    "\r\n",
    "---\r\n",
    "\r\n",
    "> A Delta Drive research initiative  \r\n",
    "> Poweredchatdeltadrive@gmail.comlts  \r\n",
    "> [www.deltadriveagency.com](#)  \r\n",
    " accessible without paid APIs  \r\n",
    "sualize resul\r\n"
   ]
  },
  {
   "cell_type": "markdown",
   "id": "0a108745-ded6-4056-832d-c18be08a1bea",
   "metadata": {},
   "source": [
    "### This installation comes with data analytics libraries; pandas, matplotlib, numpy e.tc"
   ]
  },
  {
   "cell_type": "code",
   "execution_count": 1,
   "id": "b405e01a-2e50-4ce9-8820-67fadf83d4f3",
   "metadata": {},
   "outputs": [
    {
     "name": "stdout",
     "output_type": "stream",
     "text": [
      "Requirement already satisfied: pyforest in c:\\users\\chiso\\anaconda3\\lib\\site-packages (1.1.2)\n",
      "Note: you may need to restart the kernel to use updated packages.\n"
     ]
    }
   ],
   "source": [
    "pip install pyforest"
   ]
  },
  {
   "cell_type": "code",
   "execution_count": 2,
   "id": "5aea1e89-0ef6-4775-9585-0e5c679a97ab",
   "metadata": {},
   "outputs": [],
   "source": [
    "import pyforest"
   ]
  },
  {
   "cell_type": "markdown",
   "id": "da3129c8-dcca-42ce-8ef9-c805a23c93fc",
   "metadata": {},
   "source": [
    "### Load data- data rows is about 42 million so we will just be exploring 30,0000"
   ]
  },
  {
   "cell_type": "code",
   "execution_count": 3,
   "id": "45156ee9-69af-4691-a8ed-21c95693ab33",
   "metadata": {},
   "outputs": [
    {
     "data": {
      "application/javascript": [
       "\n",
       "        if (window._pyforest_update_imports_cell) { window._pyforest_update_imports_cell('import pandas as pd'); }\n",
       "    "
      ],
      "text/plain": [
       "<IPython.core.display.Javascript object>"
      ]
     },
     "metadata": {},
     "output_type": "display_data"
    }
   ],
   "source": [
    "eCommerce_behavior_data=pd.read_csv('2019-Nov.csv', nrows=300000)"
   ]
  },
  {
   "cell_type": "markdown",
   "id": "1750a38c-d986-4a2b-8ff3-25aa5d756447",
   "metadata": {},
   "source": [
    "### see the first 20 rows of the data "
   ]
  },
  {
   "cell_type": "code",
   "execution_count": 4,
   "id": "d5b3b894-624d-473f-b0a7-884a9bd72868",
   "metadata": {},
   "outputs": [
    {
     "data": {
      "text/html": [
       "<div>\n",
       "<style scoped>\n",
       "    .dataframe tbody tr th:only-of-type {\n",
       "        vertical-align: middle;\n",
       "    }\n",
       "\n",
       "    .dataframe tbody tr th {\n",
       "        vertical-align: top;\n",
       "    }\n",
       "\n",
       "    .dataframe thead th {\n",
       "        text-align: right;\n",
       "    }\n",
       "</style>\n",
       "<table border=\"1\" class=\"dataframe\">\n",
       "  <thead>\n",
       "    <tr style=\"text-align: right;\">\n",
       "      <th></th>\n",
       "      <th>event_time</th>\n",
       "      <th>event_type</th>\n",
       "      <th>product_id</th>\n",
       "      <th>category_id</th>\n",
       "      <th>category_code</th>\n",
       "      <th>brand</th>\n",
       "      <th>price</th>\n",
       "      <th>user_id</th>\n",
       "      <th>user_session</th>\n",
       "    </tr>\n",
       "  </thead>\n",
       "  <tbody>\n",
       "    <tr>\n",
       "      <th>0</th>\n",
       "      <td>2019-11-01 00:00:00 UTC</td>\n",
       "      <td>view</td>\n",
       "      <td>1003461</td>\n",
       "      <td>2053013555631882655</td>\n",
       "      <td>electronics.smartphone</td>\n",
       "      <td>xiaomi</td>\n",
       "      <td>489.07</td>\n",
       "      <td>520088904</td>\n",
       "      <td>4d3b30da-a5e4-49df-b1a8-ba5943f1dd33</td>\n",
       "    </tr>\n",
       "    <tr>\n",
       "      <th>1</th>\n",
       "      <td>2019-11-01 00:00:00 UTC</td>\n",
       "      <td>view</td>\n",
       "      <td>5000088</td>\n",
       "      <td>2053013566100866035</td>\n",
       "      <td>appliances.sewing_machine</td>\n",
       "      <td>janome</td>\n",
       "      <td>293.65</td>\n",
       "      <td>530496790</td>\n",
       "      <td>8e5f4f83-366c-4f70-860e-ca7417414283</td>\n",
       "    </tr>\n",
       "    <tr>\n",
       "      <th>2</th>\n",
       "      <td>2019-11-01 00:00:01 UTC</td>\n",
       "      <td>view</td>\n",
       "      <td>17302664</td>\n",
       "      <td>2053013553853497655</td>\n",
       "      <td>NaN</td>\n",
       "      <td>creed</td>\n",
       "      <td>28.31</td>\n",
       "      <td>561587266</td>\n",
       "      <td>755422e7-9040-477b-9bd2-6a6e8fd97387</td>\n",
       "    </tr>\n",
       "    <tr>\n",
       "      <th>3</th>\n",
       "      <td>2019-11-01 00:00:01 UTC</td>\n",
       "      <td>view</td>\n",
       "      <td>3601530</td>\n",
       "      <td>2053013563810775923</td>\n",
       "      <td>appliances.kitchen.washer</td>\n",
       "      <td>lg</td>\n",
       "      <td>712.87</td>\n",
       "      <td>518085591</td>\n",
       "      <td>3bfb58cd-7892-48cc-8020-2f17e6de6e7f</td>\n",
       "    </tr>\n",
       "    <tr>\n",
       "      <th>4</th>\n",
       "      <td>2019-11-01 00:00:01 UTC</td>\n",
       "      <td>view</td>\n",
       "      <td>1004775</td>\n",
       "      <td>2053013555631882655</td>\n",
       "      <td>electronics.smartphone</td>\n",
       "      <td>xiaomi</td>\n",
       "      <td>183.27</td>\n",
       "      <td>558856683</td>\n",
       "      <td>313628f1-68b8-460d-84f6-cec7a8796ef2</td>\n",
       "    </tr>\n",
       "    <tr>\n",
       "      <th>5</th>\n",
       "      <td>2019-11-01 00:00:01 UTC</td>\n",
       "      <td>view</td>\n",
       "      <td>1306894</td>\n",
       "      <td>2053013558920217191</td>\n",
       "      <td>computers.notebook</td>\n",
       "      <td>hp</td>\n",
       "      <td>360.09</td>\n",
       "      <td>520772685</td>\n",
       "      <td>816a59f3-f5ae-4ccd-9b23-82aa8c23d33c</td>\n",
       "    </tr>\n",
       "    <tr>\n",
       "      <th>6</th>\n",
       "      <td>2019-11-01 00:00:01 UTC</td>\n",
       "      <td>view</td>\n",
       "      <td>1306421</td>\n",
       "      <td>2053013558920217191</td>\n",
       "      <td>computers.notebook</td>\n",
       "      <td>hp</td>\n",
       "      <td>514.56</td>\n",
       "      <td>514028527</td>\n",
       "      <td>df8184cc-3694-4549-8c8c-6b5171877376</td>\n",
       "    </tr>\n",
       "    <tr>\n",
       "      <th>7</th>\n",
       "      <td>2019-11-01 00:00:02 UTC</td>\n",
       "      <td>view</td>\n",
       "      <td>15900065</td>\n",
       "      <td>2053013558190408249</td>\n",
       "      <td>NaN</td>\n",
       "      <td>rondell</td>\n",
       "      <td>30.86</td>\n",
       "      <td>518574284</td>\n",
       "      <td>5e6ef132-4d7c-4730-8c7f-85aa4082588f</td>\n",
       "    </tr>\n",
       "    <tr>\n",
       "      <th>8</th>\n",
       "      <td>2019-11-01 00:00:02 UTC</td>\n",
       "      <td>view</td>\n",
       "      <td>12708937</td>\n",
       "      <td>2053013553559896355</td>\n",
       "      <td>NaN</td>\n",
       "      <td>michelin</td>\n",
       "      <td>72.72</td>\n",
       "      <td>532364121</td>\n",
       "      <td>0a899268-31eb-46de-898d-09b2da950b24</td>\n",
       "    </tr>\n",
       "    <tr>\n",
       "      <th>9</th>\n",
       "      <td>2019-11-01 00:00:02 UTC</td>\n",
       "      <td>view</td>\n",
       "      <td>1004258</td>\n",
       "      <td>2053013555631882655</td>\n",
       "      <td>electronics.smartphone</td>\n",
       "      <td>apple</td>\n",
       "      <td>732.07</td>\n",
       "      <td>532647354</td>\n",
       "      <td>d2d3d2c6-631d-489e-9fb5-06f340b85be0</td>\n",
       "    </tr>\n",
       "    <tr>\n",
       "      <th>10</th>\n",
       "      <td>2019-11-01 00:00:03 UTC</td>\n",
       "      <td>view</td>\n",
       "      <td>17200570</td>\n",
       "      <td>2053013559792632471</td>\n",
       "      <td>furniture.living_room.sofa</td>\n",
       "      <td>NaN</td>\n",
       "      <td>437.33</td>\n",
       "      <td>518780843</td>\n",
       "      <td>aa806835-b14c-45af-9538-cd4d1849be3e</td>\n",
       "    </tr>\n",
       "    <tr>\n",
       "      <th>11</th>\n",
       "      <td>2019-11-01 00:00:03 UTC</td>\n",
       "      <td>view</td>\n",
       "      <td>2701517</td>\n",
       "      <td>2053013563911439225</td>\n",
       "      <td>appliances.kitchen.refrigerators</td>\n",
       "      <td>NaN</td>\n",
       "      <td>155.11</td>\n",
       "      <td>518427361</td>\n",
       "      <td>c89b0d96-247f-4044-9c91-bb5f38c6af9b</td>\n",
       "    </tr>\n",
       "    <tr>\n",
       "      <th>12</th>\n",
       "      <td>2019-11-01 00:00:03 UTC</td>\n",
       "      <td>view</td>\n",
       "      <td>16700260</td>\n",
       "      <td>2053013559901684381</td>\n",
       "      <td>furniture.kitchen.chair</td>\n",
       "      <td>NaN</td>\n",
       "      <td>31.64</td>\n",
       "      <td>566255262</td>\n",
       "      <td>173d7b72-1db7-4638-8207-be8148bf3c9f</td>\n",
       "    </tr>\n",
       "    <tr>\n",
       "      <th>13</th>\n",
       "      <td>2019-11-01 00:00:04 UTC</td>\n",
       "      <td>view</td>\n",
       "      <td>34600011</td>\n",
       "      <td>2060981320581906480</td>\n",
       "      <td>NaN</td>\n",
       "      <td>NaN</td>\n",
       "      <td>20.54</td>\n",
       "      <td>512416379</td>\n",
       "      <td>4dfe2c67-e537-4dc2-ae69-0b65263db091</td>\n",
       "    </tr>\n",
       "    <tr>\n",
       "      <th>14</th>\n",
       "      <td>2019-11-01 00:00:05 UTC</td>\n",
       "      <td>view</td>\n",
       "      <td>4600658</td>\n",
       "      <td>2053013563944993659</td>\n",
       "      <td>appliances.kitchen.dishwasher</td>\n",
       "      <td>samsung</td>\n",
       "      <td>411.83</td>\n",
       "      <td>526595547</td>\n",
       "      <td>aab33a9a-29c3-4d50-84c1-8a2bc9256104</td>\n",
       "    </tr>\n",
       "    <tr>\n",
       "      <th>15</th>\n",
       "      <td>2019-11-01 00:00:06 UTC</td>\n",
       "      <td>view</td>\n",
       "      <td>24900193</td>\n",
       "      <td>2053013562183385881</td>\n",
       "      <td>NaN</td>\n",
       "      <td>NaN</td>\n",
       "      <td>1.09</td>\n",
       "      <td>512651494</td>\n",
       "      <td>f603c815-f51a-46fe-9404-cb586e35edaf</td>\n",
       "    </tr>\n",
       "    <tr>\n",
       "      <th>16</th>\n",
       "      <td>2019-11-01 00:00:07 UTC</td>\n",
       "      <td>view</td>\n",
       "      <td>27400066</td>\n",
       "      <td>2053013563391345499</td>\n",
       "      <td>NaN</td>\n",
       "      <td>NaN</td>\n",
       "      <td>8.55</td>\n",
       "      <td>551061950</td>\n",
       "      <td>3f6112f1-5695-4e88-bb0a-49f9e36658ff</td>\n",
       "    </tr>\n",
       "    <tr>\n",
       "      <th>17</th>\n",
       "      <td>2019-11-01 00:00:07 UTC</td>\n",
       "      <td>view</td>\n",
       "      <td>5100503</td>\n",
       "      <td>2053013553375346967</td>\n",
       "      <td>NaN</td>\n",
       "      <td>xiaomi</td>\n",
       "      <td>22.68</td>\n",
       "      <td>520037415</td>\n",
       "      <td>f54fa96a-f3f2-43ac-99a4-fcb2a449dd36</td>\n",
       "    </tr>\n",
       "    <tr>\n",
       "      <th>18</th>\n",
       "      <td>2019-11-01 00:00:07 UTC</td>\n",
       "      <td>view</td>\n",
       "      <td>1004566</td>\n",
       "      <td>2053013555631882655</td>\n",
       "      <td>electronics.smartphone</td>\n",
       "      <td>huawei</td>\n",
       "      <td>164.84</td>\n",
       "      <td>566265908</td>\n",
       "      <td>52c2c76c-b79e-4794-86ff-badc76d35f5a</td>\n",
       "    </tr>\n",
       "    <tr>\n",
       "      <th>19</th>\n",
       "      <td>2019-11-01 00:00:08 UTC</td>\n",
       "      <td>view</td>\n",
       "      <td>1307115</td>\n",
       "      <td>2053013558920217191</td>\n",
       "      <td>computers.notebook</td>\n",
       "      <td>hp</td>\n",
       "      <td>411.59</td>\n",
       "      <td>514028527</td>\n",
       "      <td>df8184cc-3694-4549-8c8c-6b5171877376</td>\n",
       "    </tr>\n",
       "  </tbody>\n",
       "</table>\n",
       "</div>"
      ],
      "text/plain": [
       "                 event_time event_type  product_id          category_id  \\\n",
       "0   2019-11-01 00:00:00 UTC       view     1003461  2053013555631882655   \n",
       "1   2019-11-01 00:00:00 UTC       view     5000088  2053013566100866035   \n",
       "2   2019-11-01 00:00:01 UTC       view    17302664  2053013553853497655   \n",
       "3   2019-11-01 00:00:01 UTC       view     3601530  2053013563810775923   \n",
       "4   2019-11-01 00:00:01 UTC       view     1004775  2053013555631882655   \n",
       "5   2019-11-01 00:00:01 UTC       view     1306894  2053013558920217191   \n",
       "6   2019-11-01 00:00:01 UTC       view     1306421  2053013558920217191   \n",
       "7   2019-11-01 00:00:02 UTC       view    15900065  2053013558190408249   \n",
       "8   2019-11-01 00:00:02 UTC       view    12708937  2053013553559896355   \n",
       "9   2019-11-01 00:00:02 UTC       view     1004258  2053013555631882655   \n",
       "10  2019-11-01 00:00:03 UTC       view    17200570  2053013559792632471   \n",
       "11  2019-11-01 00:00:03 UTC       view     2701517  2053013563911439225   \n",
       "12  2019-11-01 00:00:03 UTC       view    16700260  2053013559901684381   \n",
       "13  2019-11-01 00:00:04 UTC       view    34600011  2060981320581906480   \n",
       "14  2019-11-01 00:00:05 UTC       view     4600658  2053013563944993659   \n",
       "15  2019-11-01 00:00:06 UTC       view    24900193  2053013562183385881   \n",
       "16  2019-11-01 00:00:07 UTC       view    27400066  2053013563391345499   \n",
       "17  2019-11-01 00:00:07 UTC       view     5100503  2053013553375346967   \n",
       "18  2019-11-01 00:00:07 UTC       view     1004566  2053013555631882655   \n",
       "19  2019-11-01 00:00:08 UTC       view     1307115  2053013558920217191   \n",
       "\n",
       "                       category_code     brand   price    user_id  \\\n",
       "0             electronics.smartphone    xiaomi  489.07  520088904   \n",
       "1          appliances.sewing_machine    janome  293.65  530496790   \n",
       "2                                NaN     creed   28.31  561587266   \n",
       "3          appliances.kitchen.washer        lg  712.87  518085591   \n",
       "4             electronics.smartphone    xiaomi  183.27  558856683   \n",
       "5                 computers.notebook        hp  360.09  520772685   \n",
       "6                 computers.notebook        hp  514.56  514028527   \n",
       "7                                NaN   rondell   30.86  518574284   \n",
       "8                                NaN  michelin   72.72  532364121   \n",
       "9             electronics.smartphone     apple  732.07  532647354   \n",
       "10        furniture.living_room.sofa       NaN  437.33  518780843   \n",
       "11  appliances.kitchen.refrigerators       NaN  155.11  518427361   \n",
       "12           furniture.kitchen.chair       NaN   31.64  566255262   \n",
       "13                               NaN       NaN   20.54  512416379   \n",
       "14     appliances.kitchen.dishwasher   samsung  411.83  526595547   \n",
       "15                               NaN       NaN    1.09  512651494   \n",
       "16                               NaN       NaN    8.55  551061950   \n",
       "17                               NaN    xiaomi   22.68  520037415   \n",
       "18            electronics.smartphone    huawei  164.84  566265908   \n",
       "19                computers.notebook        hp  411.59  514028527   \n",
       "\n",
       "                            user_session  \n",
       "0   4d3b30da-a5e4-49df-b1a8-ba5943f1dd33  \n",
       "1   8e5f4f83-366c-4f70-860e-ca7417414283  \n",
       "2   755422e7-9040-477b-9bd2-6a6e8fd97387  \n",
       "3   3bfb58cd-7892-48cc-8020-2f17e6de6e7f  \n",
       "4   313628f1-68b8-460d-84f6-cec7a8796ef2  \n",
       "5   816a59f3-f5ae-4ccd-9b23-82aa8c23d33c  \n",
       "6   df8184cc-3694-4549-8c8c-6b5171877376  \n",
       "7   5e6ef132-4d7c-4730-8c7f-85aa4082588f  \n",
       "8   0a899268-31eb-46de-898d-09b2da950b24  \n",
       "9   d2d3d2c6-631d-489e-9fb5-06f340b85be0  \n",
       "10  aa806835-b14c-45af-9538-cd4d1849be3e  \n",
       "11  c89b0d96-247f-4044-9c91-bb5f38c6af9b  \n",
       "12  173d7b72-1db7-4638-8207-be8148bf3c9f  \n",
       "13  4dfe2c67-e537-4dc2-ae69-0b65263db091  \n",
       "14  aab33a9a-29c3-4d50-84c1-8a2bc9256104  \n",
       "15  f603c815-f51a-46fe-9404-cb586e35edaf  \n",
       "16  3f6112f1-5695-4e88-bb0a-49f9e36658ff  \n",
       "17  f54fa96a-f3f2-43ac-99a4-fcb2a449dd36  \n",
       "18  52c2c76c-b79e-4794-86ff-badc76d35f5a  \n",
       "19  df8184cc-3694-4549-8c8c-6b5171877376  "
      ]
     },
     "execution_count": 4,
     "metadata": {},
     "output_type": "execute_result"
    }
   ],
   "source": [
    "eCommerce_behavior_data.head(20)"
   ]
  },
  {
   "cell_type": "markdown",
   "id": "bb9268ee-9ab2-49f2-bf22-d79306dd2b9d",
   "metadata": {},
   "source": [
    "### Know your data"
   ]
  },
  {
   "cell_type": "code",
   "execution_count": 5,
   "id": "e652740f-e4c4-4a5a-824c-73949ddbdd32",
   "metadata": {},
   "outputs": [
    {
     "data": {
      "text/plain": [
       "(300000, 9)"
      ]
     },
     "execution_count": 5,
     "metadata": {},
     "output_type": "execute_result"
    }
   ],
   "source": [
    "eCommerce_behavior_data.shape #rows and columns"
   ]
  },
  {
   "cell_type": "code",
   "execution_count": 6,
   "id": "e78a5ef5-e79b-44bd-a158-12a6c20fdcce",
   "metadata": {},
   "outputs": [
    {
     "name": "stdout",
     "output_type": "stream",
     "text": [
      "<class 'pandas.core.frame.DataFrame'>\n",
      "RangeIndex: 300000 entries, 0 to 299999\n",
      "Data columns (total 9 columns):\n",
      " #   Column         Non-Null Count   Dtype  \n",
      "---  ------         --------------   -----  \n",
      " 0   event_time     300000 non-null  object \n",
      " 1   event_type     300000 non-null  object \n",
      " 2   product_id     300000 non-null  int64  \n",
      " 3   category_id    300000 non-null  int64  \n",
      " 4   category_code  201442 non-null  object \n",
      " 5   brand          254911 non-null  object \n",
      " 6   price          300000 non-null  float64\n",
      " 7   user_id        300000 non-null  int64  \n",
      " 8   user_session   300000 non-null  object \n",
      "dtypes: float64(1), int64(3), object(5)\n",
      "memory usage: 20.6+ MB\n"
     ]
    }
   ],
   "source": [
    "eCommerce_behavior_data.info()"
   ]
  },
  {
   "cell_type": "code",
   "execution_count": 7,
   "id": "36d7eced-2a77-49e0-b34d-122cded69f3c",
   "metadata": {},
   "outputs": [
    {
     "data": {
      "text/html": [
       "<div>\n",
       "<style scoped>\n",
       "    .dataframe tbody tr th:only-of-type {\n",
       "        vertical-align: middle;\n",
       "    }\n",
       "\n",
       "    .dataframe tbody tr th {\n",
       "        vertical-align: top;\n",
       "    }\n",
       "\n",
       "    .dataframe thead th {\n",
       "        text-align: right;\n",
       "    }\n",
       "</style>\n",
       "<table border=\"1\" class=\"dataframe\">\n",
       "  <thead>\n",
       "    <tr style=\"text-align: right;\">\n",
       "      <th></th>\n",
       "      <th>product_id</th>\n",
       "      <th>category_id</th>\n",
       "      <th>price</th>\n",
       "      <th>user_id</th>\n",
       "    </tr>\n",
       "  </thead>\n",
       "  <tbody>\n",
       "    <tr>\n",
       "      <th>count</th>\n",
       "      <td>3.000000e+05</td>\n",
       "      <td>3.000000e+05</td>\n",
       "      <td>300000.000000</td>\n",
       "      <td>3.000000e+05</td>\n",
       "    </tr>\n",
       "    <tr>\n",
       "      <th>mean</th>\n",
       "      <td>1.073206e+07</td>\n",
       "      <td>2.057627e+18</td>\n",
       "      <td>288.234638</td>\n",
       "      <td>5.350574e+08</td>\n",
       "    </tr>\n",
       "    <tr>\n",
       "      <th>std</th>\n",
       "      <td>1.197213e+07</td>\n",
       "      <td>1.913676e+16</td>\n",
       "      <td>347.101567</td>\n",
       "      <td>2.017469e+07</td>\n",
       "    </tr>\n",
       "    <tr>\n",
       "      <th>min</th>\n",
       "      <td>1.000978e+06</td>\n",
       "      <td>2.053014e+18</td>\n",
       "      <td>0.000000</td>\n",
       "      <td>2.749691e+08</td>\n",
       "    </tr>\n",
       "    <tr>\n",
       "      <th>25%</th>\n",
       "      <td>1.005205e+06</td>\n",
       "      <td>2.053014e+18</td>\n",
       "      <td>66.930000</td>\n",
       "      <td>5.158559e+08</td>\n",
       "    </tr>\n",
       "    <tr>\n",
       "      <th>50%</th>\n",
       "      <td>5.100577e+06</td>\n",
       "      <td>2.053014e+18</td>\n",
       "      <td>167.060000</td>\n",
       "      <td>5.303890e+08</td>\n",
       "    </tr>\n",
       "    <tr>\n",
       "      <th>75%</th>\n",
       "      <td>1.570016e+07</td>\n",
       "      <td>2.053014e+18</td>\n",
       "      <td>360.110000</td>\n",
       "      <td>5.542172e+08</td>\n",
       "    </tr>\n",
       "    <tr>\n",
       "      <th>max</th>\n",
       "      <td>6.050001e+07</td>\n",
       "      <td>2.180737e+18</td>\n",
       "      <td>2574.070000</td>\n",
       "      <td>5.663473e+08</td>\n",
       "    </tr>\n",
       "  </tbody>\n",
       "</table>\n",
       "</div>"
      ],
      "text/plain": [
       "         product_id   category_id          price       user_id\n",
       "count  3.000000e+05  3.000000e+05  300000.000000  3.000000e+05\n",
       "mean   1.073206e+07  2.057627e+18     288.234638  5.350574e+08\n",
       "std    1.197213e+07  1.913676e+16     347.101567  2.017469e+07\n",
       "min    1.000978e+06  2.053014e+18       0.000000  2.749691e+08\n",
       "25%    1.005205e+06  2.053014e+18      66.930000  5.158559e+08\n",
       "50%    5.100577e+06  2.053014e+18     167.060000  5.303890e+08\n",
       "75%    1.570016e+07  2.053014e+18     360.110000  5.542172e+08\n",
       "max    6.050001e+07  2.180737e+18    2574.070000  5.663473e+08"
      ]
     },
     "execution_count": 7,
     "metadata": {},
     "output_type": "execute_result"
    }
   ],
   "source": [
    "eCommerce_behavior_data.describe()"
   ]
  },
  {
   "cell_type": "code",
   "execution_count": 8,
   "id": "016c9b81-9f29-456b-b3be-3c04edcb68d3",
   "metadata": {},
   "outputs": [
    {
     "data": {
      "text/plain": [
       "event_type\n",
       "view        290150\n",
       "purchase      5512\n",
       "cart          4338\n",
       "Name: count, dtype: int64"
      ]
     },
     "execution_count": 8,
     "metadata": {},
     "output_type": "execute_result"
    }
   ],
   "source": [
    "eCommerce_behavior_data['event_type'].value_counts()"
   ]
  },
  {
   "cell_type": "code",
   "execution_count": 9,
   "id": "f06e1394-91e0-47cf-8bb0-43673dfb6de3",
   "metadata": {},
   "outputs": [
    {
     "data": {
      "application/javascript": [
       "\n",
       "        if (window._pyforest_update_imports_cell) { window._pyforest_update_imports_cell('import pandas as pd'); }\n",
       "    "
      ],
      "text/plain": [
       "<IPython.core.display.Javascript object>"
      ]
     },
     "metadata": {},
     "output_type": "display_data"
    }
   ],
   "source": [
    "eCommerce_behavior_data['event_time'] = pd.to_datetime(eCommerce_behavior_data['event_time'])\n"
   ]
  },
  {
   "cell_type": "code",
   "execution_count": 10,
   "id": "838e8160-caa0-45ac-927e-80cbfd1e5bd8",
   "metadata": {},
   "outputs": [],
   "source": [
    "eCommerce_behavior_data['day_name'] = eCommerce_behavior_data['event_time'].dt.strftime('%A')\n"
   ]
  },
  {
   "cell_type": "code",
   "execution_count": 11,
   "id": "2b0463c7-801e-41bf-a115-b5bd0c83342e",
   "metadata": {},
   "outputs": [
    {
     "data": {
      "text/html": [
       "<div>\n",
       "<style scoped>\n",
       "    .dataframe tbody tr th:only-of-type {\n",
       "        vertical-align: middle;\n",
       "    }\n",
       "\n",
       "    .dataframe tbody tr th {\n",
       "        vertical-align: top;\n",
       "    }\n",
       "\n",
       "    .dataframe thead th {\n",
       "        text-align: right;\n",
       "    }\n",
       "</style>\n",
       "<table border=\"1\" class=\"dataframe\">\n",
       "  <thead>\n",
       "    <tr style=\"text-align: right;\">\n",
       "      <th></th>\n",
       "      <th>event_time</th>\n",
       "      <th>event_type</th>\n",
       "      <th>product_id</th>\n",
       "      <th>category_id</th>\n",
       "      <th>category_code</th>\n",
       "      <th>brand</th>\n",
       "      <th>price</th>\n",
       "      <th>user_id</th>\n",
       "      <th>user_session</th>\n",
       "      <th>day_name</th>\n",
       "    </tr>\n",
       "  </thead>\n",
       "  <tbody>\n",
       "    <tr>\n",
       "      <th>0</th>\n",
       "      <td>2019-11-01 00:00:00+00:00</td>\n",
       "      <td>view</td>\n",
       "      <td>1003461</td>\n",
       "      <td>2053013555631882655</td>\n",
       "      <td>electronics.smartphone</td>\n",
       "      <td>xiaomi</td>\n",
       "      <td>489.07</td>\n",
       "      <td>520088904</td>\n",
       "      <td>4d3b30da-a5e4-49df-b1a8-ba5943f1dd33</td>\n",
       "      <td>Friday</td>\n",
       "    </tr>\n",
       "    <tr>\n",
       "      <th>1</th>\n",
       "      <td>2019-11-01 00:00:00+00:00</td>\n",
       "      <td>view</td>\n",
       "      <td>5000088</td>\n",
       "      <td>2053013566100866035</td>\n",
       "      <td>appliances.sewing_machine</td>\n",
       "      <td>janome</td>\n",
       "      <td>293.65</td>\n",
       "      <td>530496790</td>\n",
       "      <td>8e5f4f83-366c-4f70-860e-ca7417414283</td>\n",
       "      <td>Friday</td>\n",
       "    </tr>\n",
       "    <tr>\n",
       "      <th>2</th>\n",
       "      <td>2019-11-01 00:00:01+00:00</td>\n",
       "      <td>view</td>\n",
       "      <td>17302664</td>\n",
       "      <td>2053013553853497655</td>\n",
       "      <td>NaN</td>\n",
       "      <td>creed</td>\n",
       "      <td>28.31</td>\n",
       "      <td>561587266</td>\n",
       "      <td>755422e7-9040-477b-9bd2-6a6e8fd97387</td>\n",
       "      <td>Friday</td>\n",
       "    </tr>\n",
       "    <tr>\n",
       "      <th>3</th>\n",
       "      <td>2019-11-01 00:00:01+00:00</td>\n",
       "      <td>view</td>\n",
       "      <td>3601530</td>\n",
       "      <td>2053013563810775923</td>\n",
       "      <td>appliances.kitchen.washer</td>\n",
       "      <td>lg</td>\n",
       "      <td>712.87</td>\n",
       "      <td>518085591</td>\n",
       "      <td>3bfb58cd-7892-48cc-8020-2f17e6de6e7f</td>\n",
       "      <td>Friday</td>\n",
       "    </tr>\n",
       "    <tr>\n",
       "      <th>4</th>\n",
       "      <td>2019-11-01 00:00:01+00:00</td>\n",
       "      <td>view</td>\n",
       "      <td>1004775</td>\n",
       "      <td>2053013555631882655</td>\n",
       "      <td>electronics.smartphone</td>\n",
       "      <td>xiaomi</td>\n",
       "      <td>183.27</td>\n",
       "      <td>558856683</td>\n",
       "      <td>313628f1-68b8-460d-84f6-cec7a8796ef2</td>\n",
       "      <td>Friday</td>\n",
       "    </tr>\n",
       "    <tr>\n",
       "      <th>5</th>\n",
       "      <td>2019-11-01 00:00:01+00:00</td>\n",
       "      <td>view</td>\n",
       "      <td>1306894</td>\n",
       "      <td>2053013558920217191</td>\n",
       "      <td>computers.notebook</td>\n",
       "      <td>hp</td>\n",
       "      <td>360.09</td>\n",
       "      <td>520772685</td>\n",
       "      <td>816a59f3-f5ae-4ccd-9b23-82aa8c23d33c</td>\n",
       "      <td>Friday</td>\n",
       "    </tr>\n",
       "    <tr>\n",
       "      <th>6</th>\n",
       "      <td>2019-11-01 00:00:01+00:00</td>\n",
       "      <td>view</td>\n",
       "      <td>1306421</td>\n",
       "      <td>2053013558920217191</td>\n",
       "      <td>computers.notebook</td>\n",
       "      <td>hp</td>\n",
       "      <td>514.56</td>\n",
       "      <td>514028527</td>\n",
       "      <td>df8184cc-3694-4549-8c8c-6b5171877376</td>\n",
       "      <td>Friday</td>\n",
       "    </tr>\n",
       "    <tr>\n",
       "      <th>7</th>\n",
       "      <td>2019-11-01 00:00:02+00:00</td>\n",
       "      <td>view</td>\n",
       "      <td>15900065</td>\n",
       "      <td>2053013558190408249</td>\n",
       "      <td>NaN</td>\n",
       "      <td>rondell</td>\n",
       "      <td>30.86</td>\n",
       "      <td>518574284</td>\n",
       "      <td>5e6ef132-4d7c-4730-8c7f-85aa4082588f</td>\n",
       "      <td>Friday</td>\n",
       "    </tr>\n",
       "    <tr>\n",
       "      <th>8</th>\n",
       "      <td>2019-11-01 00:00:02+00:00</td>\n",
       "      <td>view</td>\n",
       "      <td>12708937</td>\n",
       "      <td>2053013553559896355</td>\n",
       "      <td>NaN</td>\n",
       "      <td>michelin</td>\n",
       "      <td>72.72</td>\n",
       "      <td>532364121</td>\n",
       "      <td>0a899268-31eb-46de-898d-09b2da950b24</td>\n",
       "      <td>Friday</td>\n",
       "    </tr>\n",
       "    <tr>\n",
       "      <th>9</th>\n",
       "      <td>2019-11-01 00:00:02+00:00</td>\n",
       "      <td>view</td>\n",
       "      <td>1004258</td>\n",
       "      <td>2053013555631882655</td>\n",
       "      <td>electronics.smartphone</td>\n",
       "      <td>apple</td>\n",
       "      <td>732.07</td>\n",
       "      <td>532647354</td>\n",
       "      <td>d2d3d2c6-631d-489e-9fb5-06f340b85be0</td>\n",
       "      <td>Friday</td>\n",
       "    </tr>\n",
       "  </tbody>\n",
       "</table>\n",
       "</div>"
      ],
      "text/plain": [
       "                 event_time event_type  product_id          category_id  \\\n",
       "0 2019-11-01 00:00:00+00:00       view     1003461  2053013555631882655   \n",
       "1 2019-11-01 00:00:00+00:00       view     5000088  2053013566100866035   \n",
       "2 2019-11-01 00:00:01+00:00       view    17302664  2053013553853497655   \n",
       "3 2019-11-01 00:00:01+00:00       view     3601530  2053013563810775923   \n",
       "4 2019-11-01 00:00:01+00:00       view     1004775  2053013555631882655   \n",
       "5 2019-11-01 00:00:01+00:00       view     1306894  2053013558920217191   \n",
       "6 2019-11-01 00:00:01+00:00       view     1306421  2053013558920217191   \n",
       "7 2019-11-01 00:00:02+00:00       view    15900065  2053013558190408249   \n",
       "8 2019-11-01 00:00:02+00:00       view    12708937  2053013553559896355   \n",
       "9 2019-11-01 00:00:02+00:00       view     1004258  2053013555631882655   \n",
       "\n",
       "               category_code     brand   price    user_id  \\\n",
       "0     electronics.smartphone    xiaomi  489.07  520088904   \n",
       "1  appliances.sewing_machine    janome  293.65  530496790   \n",
       "2                        NaN     creed   28.31  561587266   \n",
       "3  appliances.kitchen.washer        lg  712.87  518085591   \n",
       "4     electronics.smartphone    xiaomi  183.27  558856683   \n",
       "5         computers.notebook        hp  360.09  520772685   \n",
       "6         computers.notebook        hp  514.56  514028527   \n",
       "7                        NaN   rondell   30.86  518574284   \n",
       "8                        NaN  michelin   72.72  532364121   \n",
       "9     electronics.smartphone     apple  732.07  532647354   \n",
       "\n",
       "                           user_session day_name  \n",
       "0  4d3b30da-a5e4-49df-b1a8-ba5943f1dd33   Friday  \n",
       "1  8e5f4f83-366c-4f70-860e-ca7417414283   Friday  \n",
       "2  755422e7-9040-477b-9bd2-6a6e8fd97387   Friday  \n",
       "3  3bfb58cd-7892-48cc-8020-2f17e6de6e7f   Friday  \n",
       "4  313628f1-68b8-460d-84f6-cec7a8796ef2   Friday  \n",
       "5  816a59f3-f5ae-4ccd-9b23-82aa8c23d33c   Friday  \n",
       "6  df8184cc-3694-4549-8c8c-6b5171877376   Friday  \n",
       "7  5e6ef132-4d7c-4730-8c7f-85aa4082588f   Friday  \n",
       "8  0a899268-31eb-46de-898d-09b2da950b24   Friday  \n",
       "9  d2d3d2c6-631d-489e-9fb5-06f340b85be0   Friday  "
      ]
     },
     "execution_count": 11,
     "metadata": {},
     "output_type": "execute_result"
    }
   ],
   "source": [
    "eCommerce_behavior_data.head(10)"
   ]
  },
  {
   "cell_type": "markdown",
   "id": "58c3178e-6998-4262-8cec-835c0942ed61",
   "metadata": {},
   "source": [
    "### Feature engineering to improve data "
   ]
  },
  {
   "cell_type": "code",
   "execution_count": 12,
   "id": "c74df883-a311-4d6a-9317-ab66c171fe4c",
   "metadata": {},
   "outputs": [
    {
     "data": {
      "text/plain": [
       "day_name\n",
       "Friday    300000\n",
       "Name: count, dtype: int64"
      ]
     },
     "execution_count": 12,
     "metadata": {},
     "output_type": "execute_result"
    }
   ],
   "source": [
    "eCommerce_behavior_data['day_name'].value_counts()"
   ]
  },
  {
   "cell_type": "code",
   "execution_count": 13,
   "id": "0686292d-c298-4ed2-b37c-9b80f562d228",
   "metadata": {},
   "outputs": [],
   "source": [
    "eCommerce_behavior_data['hour'] = eCommerce_behavior_data['event_time'].dt.hour"
   ]
  },
  {
   "cell_type": "code",
   "execution_count": 14,
   "id": "eefc7c0f-2fb4-407e-8565-8731ec575c77",
   "metadata": {},
   "outputs": [
    {
     "data": {
      "text/plain": [
       "hour\n",
       "5    73450\n",
       "4    61480\n",
       "6    58337\n",
       "3    49348\n",
       "2    32498\n",
       "1    14000\n",
       "0    10887\n",
       "Name: count, dtype: int64"
      ]
     },
     "execution_count": 14,
     "metadata": {},
     "output_type": "execute_result"
    }
   ],
   "source": [
    "eCommerce_behavior_data['hour'].value_counts()"
   ]
  },
  {
   "cell_type": "code",
   "execution_count": 15,
   "id": "037d4cca-e736-4135-9075-b1fadec4c890",
   "metadata": {},
   "outputs": [],
   "source": [
    "eCommerce_behavior_data=eCommerce_behavior_data.drop('event_time', axis=1)"
   ]
  },
  {
   "cell_type": "code",
   "execution_count": 16,
   "id": "4b1e7c3e-8b83-4057-9c76-842de068cd4c",
   "metadata": {},
   "outputs": [],
   "source": [
    "def format_hour(hour):\n",
    "    if hour == 0:\n",
    "        return '12 AM'\n",
    "    elif 1 <= hour <= 11:\n",
    "        return f'{hour} AM'\n",
    "    elif hour == 12:\n",
    "        return '12 PM'\n",
    "    else:\n",
    "        return f'{hour - 12} PM'\n",
    "\n",
    "eCommerce_behavior_data['hour_label'] = eCommerce_behavior_data['hour'].apply(format_hour)\n"
   ]
  },
  {
   "cell_type": "code",
   "execution_count": 17,
   "id": "2798308b-622a-43b6-a552-a45d1387685c",
   "metadata": {},
   "outputs": [
    {
     "data": {
      "text/html": [
       "<div>\n",
       "<style scoped>\n",
       "    .dataframe tbody tr th:only-of-type {\n",
       "        vertical-align: middle;\n",
       "    }\n",
       "\n",
       "    .dataframe tbody tr th {\n",
       "        vertical-align: top;\n",
       "    }\n",
       "\n",
       "    .dataframe thead th {\n",
       "        text-align: right;\n",
       "    }\n",
       "</style>\n",
       "<table border=\"1\" class=\"dataframe\">\n",
       "  <thead>\n",
       "    <tr style=\"text-align: right;\">\n",
       "      <th></th>\n",
       "      <th>event_type</th>\n",
       "      <th>product_id</th>\n",
       "      <th>category_id</th>\n",
       "      <th>category_code</th>\n",
       "      <th>brand</th>\n",
       "      <th>price</th>\n",
       "      <th>user_id</th>\n",
       "      <th>user_session</th>\n",
       "      <th>day_name</th>\n",
       "      <th>hour</th>\n",
       "      <th>hour_label</th>\n",
       "    </tr>\n",
       "  </thead>\n",
       "  <tbody>\n",
       "    <tr>\n",
       "      <th>0</th>\n",
       "      <td>view</td>\n",
       "      <td>1003461</td>\n",
       "      <td>2053013555631882655</td>\n",
       "      <td>electronics.smartphone</td>\n",
       "      <td>xiaomi</td>\n",
       "      <td>489.07</td>\n",
       "      <td>520088904</td>\n",
       "      <td>4d3b30da-a5e4-49df-b1a8-ba5943f1dd33</td>\n",
       "      <td>Friday</td>\n",
       "      <td>0</td>\n",
       "      <td>12 AM</td>\n",
       "    </tr>\n",
       "    <tr>\n",
       "      <th>1</th>\n",
       "      <td>view</td>\n",
       "      <td>5000088</td>\n",
       "      <td>2053013566100866035</td>\n",
       "      <td>appliances.sewing_machine</td>\n",
       "      <td>janome</td>\n",
       "      <td>293.65</td>\n",
       "      <td>530496790</td>\n",
       "      <td>8e5f4f83-366c-4f70-860e-ca7417414283</td>\n",
       "      <td>Friday</td>\n",
       "      <td>0</td>\n",
       "      <td>12 AM</td>\n",
       "    </tr>\n",
       "    <tr>\n",
       "      <th>2</th>\n",
       "      <td>view</td>\n",
       "      <td>17302664</td>\n",
       "      <td>2053013553853497655</td>\n",
       "      <td>NaN</td>\n",
       "      <td>creed</td>\n",
       "      <td>28.31</td>\n",
       "      <td>561587266</td>\n",
       "      <td>755422e7-9040-477b-9bd2-6a6e8fd97387</td>\n",
       "      <td>Friday</td>\n",
       "      <td>0</td>\n",
       "      <td>12 AM</td>\n",
       "    </tr>\n",
       "    <tr>\n",
       "      <th>3</th>\n",
       "      <td>view</td>\n",
       "      <td>3601530</td>\n",
       "      <td>2053013563810775923</td>\n",
       "      <td>appliances.kitchen.washer</td>\n",
       "      <td>lg</td>\n",
       "      <td>712.87</td>\n",
       "      <td>518085591</td>\n",
       "      <td>3bfb58cd-7892-48cc-8020-2f17e6de6e7f</td>\n",
       "      <td>Friday</td>\n",
       "      <td>0</td>\n",
       "      <td>12 AM</td>\n",
       "    </tr>\n",
       "    <tr>\n",
       "      <th>4</th>\n",
       "      <td>view</td>\n",
       "      <td>1004775</td>\n",
       "      <td>2053013555631882655</td>\n",
       "      <td>electronics.smartphone</td>\n",
       "      <td>xiaomi</td>\n",
       "      <td>183.27</td>\n",
       "      <td>558856683</td>\n",
       "      <td>313628f1-68b8-460d-84f6-cec7a8796ef2</td>\n",
       "      <td>Friday</td>\n",
       "      <td>0</td>\n",
       "      <td>12 AM</td>\n",
       "    </tr>\n",
       "    <tr>\n",
       "      <th>...</th>\n",
       "      <td>...</td>\n",
       "      <td>...</td>\n",
       "      <td>...</td>\n",
       "      <td>...</td>\n",
       "      <td>...</td>\n",
       "      <td>...</td>\n",
       "      <td>...</td>\n",
       "      <td>...</td>\n",
       "      <td>...</td>\n",
       "      <td>...</td>\n",
       "      <td>...</td>\n",
       "    </tr>\n",
       "    <tr>\n",
       "      <th>299995</th>\n",
       "      <td>view</td>\n",
       "      <td>57100066</td>\n",
       "      <td>2152289023127715889</td>\n",
       "      <td>NaN</td>\n",
       "      <td>novline</td>\n",
       "      <td>33.21</td>\n",
       "      <td>527137455</td>\n",
       "      <td>5da8da94-4806-4768-9e62-c661f2d65070</td>\n",
       "      <td>Friday</td>\n",
       "      <td>6</td>\n",
       "      <td>6 AM</td>\n",
       "    </tr>\n",
       "    <tr>\n",
       "      <th>299996</th>\n",
       "      <td>view</td>\n",
       "      <td>1003709</td>\n",
       "      <td>2053013555631882655</td>\n",
       "      <td>electronics.smartphone</td>\n",
       "      <td>samsung</td>\n",
       "      <td>772.17</td>\n",
       "      <td>522818922</td>\n",
       "      <td>7372b371-eca3-489a-b7e6-ef2de0f89614</td>\n",
       "      <td>Friday</td>\n",
       "      <td>6</td>\n",
       "      <td>6 AM</td>\n",
       "    </tr>\n",
       "    <tr>\n",
       "      <th>299997</th>\n",
       "      <td>view</td>\n",
       "      <td>7900244</td>\n",
       "      <td>2053013556487520725</td>\n",
       "      <td>furniture.kitchen.chair</td>\n",
       "      <td>NaN</td>\n",
       "      <td>25.71</td>\n",
       "      <td>566347147</td>\n",
       "      <td>7fb92a36-6a84-40a5-8e5a-8a2163499827</td>\n",
       "      <td>Friday</td>\n",
       "      <td>6</td>\n",
       "      <td>6 AM</td>\n",
       "    </tr>\n",
       "    <tr>\n",
       "      <th>299998</th>\n",
       "      <td>view</td>\n",
       "      <td>4804324</td>\n",
       "      <td>2053013554658804075</td>\n",
       "      <td>electronics.audio.headphone</td>\n",
       "      <td>plantronics</td>\n",
       "      <td>42.47</td>\n",
       "      <td>512536231</td>\n",
       "      <td>2d8d4724-0d87-4aff-b6c4-277597ed73b7</td>\n",
       "      <td>Friday</td>\n",
       "      <td>6</td>\n",
       "      <td>6 AM</td>\n",
       "    </tr>\n",
       "    <tr>\n",
       "      <th>299999</th>\n",
       "      <td>view</td>\n",
       "      <td>4700694</td>\n",
       "      <td>2053013560899928785</td>\n",
       "      <td>auto.accessories.videoregister</td>\n",
       "      <td>NaN</td>\n",
       "      <td>56.60</td>\n",
       "      <td>516732097</td>\n",
       "      <td>a7b8429b-aeb0-4266-8715-c34309913419</td>\n",
       "      <td>Friday</td>\n",
       "      <td>6</td>\n",
       "      <td>6 AM</td>\n",
       "    </tr>\n",
       "  </tbody>\n",
       "</table>\n",
       "<p>300000 rows × 11 columns</p>\n",
       "</div>"
      ],
      "text/plain": [
       "       event_type  product_id          category_id  \\\n",
       "0            view     1003461  2053013555631882655   \n",
       "1            view     5000088  2053013566100866035   \n",
       "2            view    17302664  2053013553853497655   \n",
       "3            view     3601530  2053013563810775923   \n",
       "4            view     1004775  2053013555631882655   \n",
       "...           ...         ...                  ...   \n",
       "299995       view    57100066  2152289023127715889   \n",
       "299996       view     1003709  2053013555631882655   \n",
       "299997       view     7900244  2053013556487520725   \n",
       "299998       view     4804324  2053013554658804075   \n",
       "299999       view     4700694  2053013560899928785   \n",
       "\n",
       "                         category_code        brand   price    user_id  \\\n",
       "0               electronics.smartphone       xiaomi  489.07  520088904   \n",
       "1            appliances.sewing_machine       janome  293.65  530496790   \n",
       "2                                  NaN        creed   28.31  561587266   \n",
       "3            appliances.kitchen.washer           lg  712.87  518085591   \n",
       "4               electronics.smartphone       xiaomi  183.27  558856683   \n",
       "...                                ...          ...     ...        ...   \n",
       "299995                             NaN      novline   33.21  527137455   \n",
       "299996          electronics.smartphone      samsung  772.17  522818922   \n",
       "299997         furniture.kitchen.chair          NaN   25.71  566347147   \n",
       "299998     electronics.audio.headphone  plantronics   42.47  512536231   \n",
       "299999  auto.accessories.videoregister          NaN   56.60  516732097   \n",
       "\n",
       "                                user_session day_name  hour hour_label  \n",
       "0       4d3b30da-a5e4-49df-b1a8-ba5943f1dd33   Friday     0      12 AM  \n",
       "1       8e5f4f83-366c-4f70-860e-ca7417414283   Friday     0      12 AM  \n",
       "2       755422e7-9040-477b-9bd2-6a6e8fd97387   Friday     0      12 AM  \n",
       "3       3bfb58cd-7892-48cc-8020-2f17e6de6e7f   Friday     0      12 AM  \n",
       "4       313628f1-68b8-460d-84f6-cec7a8796ef2   Friday     0      12 AM  \n",
       "...                                      ...      ...   ...        ...  \n",
       "299995  5da8da94-4806-4768-9e62-c661f2d65070   Friday     6       6 AM  \n",
       "299996  7372b371-eca3-489a-b7e6-ef2de0f89614   Friday     6       6 AM  \n",
       "299997  7fb92a36-6a84-40a5-8e5a-8a2163499827   Friday     6       6 AM  \n",
       "299998  2d8d4724-0d87-4aff-b6c4-277597ed73b7   Friday     6       6 AM  \n",
       "299999  a7b8429b-aeb0-4266-8715-c34309913419   Friday     6       6 AM  \n",
       "\n",
       "[300000 rows x 11 columns]"
      ]
     },
     "execution_count": 17,
     "metadata": {},
     "output_type": "execute_result"
    }
   ],
   "source": [
    "eCommerce_behavior_data"
   ]
  },
  {
   "cell_type": "code",
   "execution_count": 18,
   "id": "653e32be-1f3d-4397-b611-3fafde9cc4e7",
   "metadata": {},
   "outputs": [],
   "source": [
    "# drop columns irrelevant\n",
    "columns_to_drop=['product_id', 'category_id', 'user_session', 'hour', 'day_name']\n",
    "eCommerce_behavior_data.drop(columns_to_drop, axis=1, inplace=True)"
   ]
  },
  {
   "cell_type": "code",
   "execution_count": 19,
   "id": "13c0cfe6-28b4-410e-83ef-c4e1c6bb546f",
   "metadata": {},
   "outputs": [
    {
     "data": {
      "text/html": [
       "<div>\n",
       "<style scoped>\n",
       "    .dataframe tbody tr th:only-of-type {\n",
       "        vertical-align: middle;\n",
       "    }\n",
       "\n",
       "    .dataframe tbody tr th {\n",
       "        vertical-align: top;\n",
       "    }\n",
       "\n",
       "    .dataframe thead th {\n",
       "        text-align: right;\n",
       "    }\n",
       "</style>\n",
       "<table border=\"1\" class=\"dataframe\">\n",
       "  <thead>\n",
       "    <tr style=\"text-align: right;\">\n",
       "      <th></th>\n",
       "      <th>event_type</th>\n",
       "      <th>category_code</th>\n",
       "      <th>brand</th>\n",
       "      <th>price</th>\n",
       "      <th>user_id</th>\n",
       "      <th>hour_label</th>\n",
       "    </tr>\n",
       "  </thead>\n",
       "  <tbody>\n",
       "    <tr>\n",
       "      <th>0</th>\n",
       "      <td>view</td>\n",
       "      <td>electronics.smartphone</td>\n",
       "      <td>xiaomi</td>\n",
       "      <td>489.07</td>\n",
       "      <td>520088904</td>\n",
       "      <td>12 AM</td>\n",
       "    </tr>\n",
       "    <tr>\n",
       "      <th>1</th>\n",
       "      <td>view</td>\n",
       "      <td>appliances.sewing_machine</td>\n",
       "      <td>janome</td>\n",
       "      <td>293.65</td>\n",
       "      <td>530496790</td>\n",
       "      <td>12 AM</td>\n",
       "    </tr>\n",
       "    <tr>\n",
       "      <th>2</th>\n",
       "      <td>view</td>\n",
       "      <td>NaN</td>\n",
       "      <td>creed</td>\n",
       "      <td>28.31</td>\n",
       "      <td>561587266</td>\n",
       "      <td>12 AM</td>\n",
       "    </tr>\n",
       "    <tr>\n",
       "      <th>3</th>\n",
       "      <td>view</td>\n",
       "      <td>appliances.kitchen.washer</td>\n",
       "      <td>lg</td>\n",
       "      <td>712.87</td>\n",
       "      <td>518085591</td>\n",
       "      <td>12 AM</td>\n",
       "    </tr>\n",
       "    <tr>\n",
       "      <th>4</th>\n",
       "      <td>view</td>\n",
       "      <td>electronics.smartphone</td>\n",
       "      <td>xiaomi</td>\n",
       "      <td>183.27</td>\n",
       "      <td>558856683</td>\n",
       "      <td>12 AM</td>\n",
       "    </tr>\n",
       "    <tr>\n",
       "      <th>5</th>\n",
       "      <td>view</td>\n",
       "      <td>computers.notebook</td>\n",
       "      <td>hp</td>\n",
       "      <td>360.09</td>\n",
       "      <td>520772685</td>\n",
       "      <td>12 AM</td>\n",
       "    </tr>\n",
       "    <tr>\n",
       "      <th>6</th>\n",
       "      <td>view</td>\n",
       "      <td>computers.notebook</td>\n",
       "      <td>hp</td>\n",
       "      <td>514.56</td>\n",
       "      <td>514028527</td>\n",
       "      <td>12 AM</td>\n",
       "    </tr>\n",
       "    <tr>\n",
       "      <th>7</th>\n",
       "      <td>view</td>\n",
       "      <td>NaN</td>\n",
       "      <td>rondell</td>\n",
       "      <td>30.86</td>\n",
       "      <td>518574284</td>\n",
       "      <td>12 AM</td>\n",
       "    </tr>\n",
       "    <tr>\n",
       "      <th>8</th>\n",
       "      <td>view</td>\n",
       "      <td>NaN</td>\n",
       "      <td>michelin</td>\n",
       "      <td>72.72</td>\n",
       "      <td>532364121</td>\n",
       "      <td>12 AM</td>\n",
       "    </tr>\n",
       "    <tr>\n",
       "      <th>9</th>\n",
       "      <td>view</td>\n",
       "      <td>electronics.smartphone</td>\n",
       "      <td>apple</td>\n",
       "      <td>732.07</td>\n",
       "      <td>532647354</td>\n",
       "      <td>12 AM</td>\n",
       "    </tr>\n",
       "  </tbody>\n",
       "</table>\n",
       "</div>"
      ],
      "text/plain": [
       "  event_type              category_code     brand   price    user_id  \\\n",
       "0       view     electronics.smartphone    xiaomi  489.07  520088904   \n",
       "1       view  appliances.sewing_machine    janome  293.65  530496790   \n",
       "2       view                        NaN     creed   28.31  561587266   \n",
       "3       view  appliances.kitchen.washer        lg  712.87  518085591   \n",
       "4       view     electronics.smartphone    xiaomi  183.27  558856683   \n",
       "5       view         computers.notebook        hp  360.09  520772685   \n",
       "6       view         computers.notebook        hp  514.56  514028527   \n",
       "7       view                        NaN   rondell   30.86  518574284   \n",
       "8       view                        NaN  michelin   72.72  532364121   \n",
       "9       view     electronics.smartphone     apple  732.07  532647354   \n",
       "\n",
       "  hour_label  \n",
       "0      12 AM  \n",
       "1      12 AM  \n",
       "2      12 AM  \n",
       "3      12 AM  \n",
       "4      12 AM  \n",
       "5      12 AM  \n",
       "6      12 AM  \n",
       "7      12 AM  \n",
       "8      12 AM  \n",
       "9      12 AM  "
      ]
     },
     "execution_count": 19,
     "metadata": {},
     "output_type": "execute_result"
    }
   ],
   "source": [
    "eCommerce_behavior_data.head(10)"
   ]
  },
  {
   "cell_type": "code",
   "execution_count": 20,
   "id": "a199d394-b849-46a5-9af0-5de98a2da17a",
   "metadata": {},
   "outputs": [
    {
     "data": {
      "text/plain": [
       "event_type           0\n",
       "category_code    98558\n",
       "brand            45089\n",
       "price                0\n",
       "user_id              0\n",
       "hour_label           0\n",
       "dtype: int64"
      ]
     },
     "execution_count": 20,
     "metadata": {},
     "output_type": "execute_result"
    }
   ],
   "source": [
    "eCommerce_behavior_data.isnull().sum()"
   ]
  },
  {
   "cell_type": "code",
   "execution_count": 21,
   "id": "95587822-c87c-4ea3-829a-d6ef2ea372b4",
   "metadata": {},
   "outputs": [],
   "source": [
    "eCommerce_behavior_data.dropna(inplace=True)\n"
   ]
  },
  {
   "cell_type": "code",
   "execution_count": 22,
   "id": "bba4000f-9722-4784-a0f3-59386f4e48b2",
   "metadata": {},
   "outputs": [],
   "source": [
    "total_price = eCommerce_behavior_data['price'].sum()\n",
    "\n",
    "price_percent = (\n",
    "    eCommerce_behavior_data.groupby('event_type')['price'].sum() / total_price\n",
    ") * 100\n"
   ]
  },
  {
   "cell_type": "code",
   "execution_count": 23,
   "id": "4632b61b-a981-4496-9da7-c689c346c68e",
   "metadata": {},
   "outputs": [],
   "source": [
    "event_price = eCommerce_behavior_data.groupby('event_type')['price'].sum().reset_index().sort_values(by='price', ascending=False)"
   ]
  },
  {
   "cell_type": "code",
   "execution_count": 24,
   "id": "2f25604e-039c-40f8-896c-3d56aa6ca61a",
   "metadata": {},
   "outputs": [
    {
     "data": {
      "application/javascript": [
       "\n",
       "        if (window._pyforest_update_imports_cell) { window._pyforest_update_imports_cell('import pandas as pd\\nimport matplotlib.pyplot as plt'); }\n",
       "    "
      ],
      "text/plain": [
       "<IPython.core.display.Javascript object>"
      ]
     },
     "metadata": {},
     "output_type": "display_data"
    },
    {
     "data": {
      "application/javascript": [
       "\n",
       "        if (window._pyforest_update_imports_cell) { window._pyforest_update_imports_cell('import pandas as pd\\nimport matplotlib.pyplot as plt'); }\n",
       "    "
      ],
      "text/plain": [
       "<IPython.core.display.Javascript object>"
      ]
     },
     "metadata": {},
     "output_type": "display_data"
    },
    {
     "data": {
      "application/javascript": [
       "\n",
       "        if (window._pyforest_update_imports_cell) { window._pyforest_update_imports_cell('import pandas as pd\\nimport matplotlib.pyplot as plt'); }\n",
       "    "
      ],
      "text/plain": [
       "<IPython.core.display.Javascript object>"
      ]
     },
     "metadata": {},
     "output_type": "display_data"
    },
    {
     "data": {
      "application/javascript": [
       "\n",
       "        if (window._pyforest_update_imports_cell) { window._pyforest_update_imports_cell('import pandas as pd\\nimport matplotlib.pyplot as plt'); }\n",
       "    "
      ],
      "text/plain": [
       "<IPython.core.display.Javascript object>"
      ]
     },
     "metadata": {},
     "output_type": "display_data"
    },
    {
     "data": {
      "application/javascript": [
       "\n",
       "        if (window._pyforest_update_imports_cell) { window._pyforest_update_imports_cell('import pandas as pd\\nimport matplotlib.pyplot as plt'); }\n",
       "    "
      ],
      "text/plain": [
       "<IPython.core.display.Javascript object>"
      ]
     },
     "metadata": {},
     "output_type": "display_data"
    },
    {
     "data": {
      "application/javascript": [
       "\n",
       "        if (window._pyforest_update_imports_cell) { window._pyforest_update_imports_cell('import pandas as pd\\nimport matplotlib.pyplot as plt'); }\n",
       "    "
      ],
      "text/plain": [
       "<IPython.core.display.Javascript object>"
      ]
     },
     "metadata": {},
     "output_type": "display_data"
    },
    {
     "data": {
      "application/javascript": [
       "\n",
       "        if (window._pyforest_update_imports_cell) { window._pyforest_update_imports_cell('import pandas as pd\\nimport matplotlib.pyplot as plt'); }\n",
       "    "
      ],
      "text/plain": [
       "<IPython.core.display.Javascript object>"
      ]
     },
     "metadata": {},
     "output_type": "display_data"
    },
    {
     "data": {
      "image/png": "[encoded data removed]",
      "text/plain": [
       "<Figure size 800x500 with 1 Axes>"
      ]
     },
     "metadata": {},
     "output_type": "display_data"
    }
   ],
   "source": [
    "# visualise with seaborn\n",
    "import seaborn as sn\n",
    "palette = ['#1A0061', '#111111', '#8ACDEA', '#E3E3E3']\n",
    "plt.figure(figsize=(8,5))\n",
    "sn.barplot(data=event_price, x='event_type', y='price', palette=palette)\n",
    "\n",
    "\n",
    "plt.title('Total Price by Event Type')\n",
    "from matplotlib.patches import Patch\n",
    "\n",
    "# Use a dictionary for custom palette\n",
    "delta_palette = {\n",
    "    'view': '#8ACDEA',\n",
    "    'cart': '#E3E3E3',\n",
    "    'purchase': '#1A0061',\n",
    "    'remove_from_cart': '#111111'\n",
    "}\n",
    "\n",
    "# Build custom legend\n",
    "legend_elements = [\n",
    "    Patch(facecolor=delta_palette[key], label=key.replace('_', ' ').title())\n",
    "    for key in event_price['event_type']\n",
    "    if key in delta_palette\n",
    "]\n",
    "\n",
    "plt.legend(\n",
    "    handles=legend_elements,\n",
    "    title='Event Type',\n",
    "    loc='upper right'\n",
    ")\n",
    "plt.xlabel('Event Type')\n",
    "plt.ylabel('Total Price')\n",
    "plt.tight_layout()\n",
    "plt.show()\n"
   ]
  },
  {
   "cell_type": "code",
   "execution_count": 25,
   "id": "3d2323eb-d4b5-4c2f-957c-c8ce0dc3d205",
   "metadata": {},
   "outputs": [],
   "source": [
    "event_hour = eCommerce_behavior_data.groupby(['event_type', 'hour_label']).size().reset_index(name='count')\n"
   ]
  },
  {
   "cell_type": "code",
   "execution_count": 26,
   "id": "8e8f1eb0-0eb1-4417-b123-6fc683bf7534",
   "metadata": {},
   "outputs": [
    {
     "data": {
      "text/html": [
       "<div>\n",
       "<style scoped>\n",
       "    .dataframe tbody tr th:only-of-type {\n",
       "        vertical-align: middle;\n",
       "    }\n",
       "\n",
       "    .dataframe tbody tr th {\n",
       "        vertical-align: top;\n",
       "    }\n",
       "\n",
       "    .dataframe thead th {\n",
       "        text-align: right;\n",
       "    }\n",
       "</style>\n",
       "<table border=\"1\" class=\"dataframe\">\n",
       "  <thead>\n",
       "    <tr style=\"text-align: right;\">\n",
       "      <th></th>\n",
       "      <th>event_type</th>\n",
       "      <th>hour_label</th>\n",
       "      <th>count</th>\n",
       "    </tr>\n",
       "  </thead>\n",
       "  <tbody>\n",
       "    <tr>\n",
       "      <th>0</th>\n",
       "      <td>cart</td>\n",
       "      <td>1 AM</td>\n",
       "      <td>84</td>\n",
       "    </tr>\n",
       "    <tr>\n",
       "      <th>1</th>\n",
       "      <td>cart</td>\n",
       "      <td>12 AM</td>\n",
       "      <td>87</td>\n",
       "    </tr>\n",
       "    <tr>\n",
       "      <th>2</th>\n",
       "      <td>cart</td>\n",
       "      <td>2 AM</td>\n",
       "      <td>295</td>\n",
       "    </tr>\n",
       "    <tr>\n",
       "      <th>3</th>\n",
       "      <td>cart</td>\n",
       "      <td>3 AM</td>\n",
       "      <td>553</td>\n",
       "    </tr>\n",
       "    <tr>\n",
       "      <th>4</th>\n",
       "      <td>cart</td>\n",
       "      <td>4 AM</td>\n",
       "      <td>841</td>\n",
       "    </tr>\n",
       "    <tr>\n",
       "      <th>5</th>\n",
       "      <td>cart</td>\n",
       "      <td>5 AM</td>\n",
       "      <td>1040</td>\n",
       "    </tr>\n",
       "    <tr>\n",
       "      <th>6</th>\n",
       "      <td>cart</td>\n",
       "      <td>6 AM</td>\n",
       "      <td>877</td>\n",
       "    </tr>\n",
       "    <tr>\n",
       "      <th>7</th>\n",
       "      <td>purchase</td>\n",
       "      <td>1 AM</td>\n",
       "      <td>76</td>\n",
       "    </tr>\n",
       "    <tr>\n",
       "      <th>8</th>\n",
       "      <td>purchase</td>\n",
       "      <td>12 AM</td>\n",
       "      <td>82</td>\n",
       "    </tr>\n",
       "    <tr>\n",
       "      <th>9</th>\n",
       "      <td>purchase</td>\n",
       "      <td>2 AM</td>\n",
       "      <td>320</td>\n",
       "    </tr>\n",
       "    <tr>\n",
       "      <th>10</th>\n",
       "      <td>purchase</td>\n",
       "      <td>3 AM</td>\n",
       "      <td>629</td>\n",
       "    </tr>\n",
       "    <tr>\n",
       "      <th>11</th>\n",
       "      <td>purchase</td>\n",
       "      <td>4 AM</td>\n",
       "      <td>902</td>\n",
       "    </tr>\n",
       "    <tr>\n",
       "      <th>12</th>\n",
       "      <td>purchase</td>\n",
       "      <td>5 AM</td>\n",
       "      <td>1045</td>\n",
       "    </tr>\n",
       "    <tr>\n",
       "      <th>13</th>\n",
       "      <td>purchase</td>\n",
       "      <td>6 AM</td>\n",
       "      <td>866</td>\n",
       "    </tr>\n",
       "    <tr>\n",
       "      <th>14</th>\n",
       "      <td>view</td>\n",
       "      <td>1 AM</td>\n",
       "      <td>8111</td>\n",
       "    </tr>\n",
       "    <tr>\n",
       "      <th>15</th>\n",
       "      <td>view</td>\n",
       "      <td>12 AM</td>\n",
       "      <td>5880</td>\n",
       "    </tr>\n",
       "    <tr>\n",
       "      <th>16</th>\n",
       "      <td>view</td>\n",
       "      <td>2 AM</td>\n",
       "      <td>19050</td>\n",
       "    </tr>\n",
       "    <tr>\n",
       "      <th>17</th>\n",
       "      <td>view</td>\n",
       "      <td>3 AM</td>\n",
       "      <td>28419</td>\n",
       "    </tr>\n",
       "    <tr>\n",
       "      <th>18</th>\n",
       "      <td>view</td>\n",
       "      <td>4 AM</td>\n",
       "      <td>35811</td>\n",
       "    </tr>\n",
       "    <tr>\n",
       "      <th>19</th>\n",
       "      <td>view</td>\n",
       "      <td>5 AM</td>\n",
       "      <td>43518</td>\n",
       "    </tr>\n",
       "    <tr>\n",
       "      <th>20</th>\n",
       "      <td>view</td>\n",
       "      <td>6 AM</td>\n",
       "      <td>34203</td>\n",
       "    </tr>\n",
       "  </tbody>\n",
       "</table>\n",
       "</div>"
      ],
      "text/plain": [
       "   event_type hour_label  count\n",
       "0        cart       1 AM     84\n",
       "1        cart      12 AM     87\n",
       "2        cart       2 AM    295\n",
       "3        cart       3 AM    553\n",
       "4        cart       4 AM    841\n",
       "5        cart       5 AM   1040\n",
       "6        cart       6 AM    877\n",
       "7    purchase       1 AM     76\n",
       "8    purchase      12 AM     82\n",
       "9    purchase       2 AM    320\n",
       "10   purchase       3 AM    629\n",
       "11   purchase       4 AM    902\n",
       "12   purchase       5 AM   1045\n",
       "13   purchase       6 AM    866\n",
       "14       view       1 AM   8111\n",
       "15       view      12 AM   5880\n",
       "16       view       2 AM  19050\n",
       "17       view       3 AM  28419\n",
       "18       view       4 AM  35811\n",
       "19       view       5 AM  43518\n",
       "20       view       6 AM  34203"
      ]
     },
     "execution_count": 26,
     "metadata": {},
     "output_type": "execute_result"
    }
   ],
   "source": [
    "event_hour"
   ]
  },
  {
   "cell_type": "code",
   "execution_count": 27,
   "id": "40930f8b-3e5a-41d2-840a-fed7d0397b9c",
   "metadata": {},
   "outputs": [
    {
     "data": {
      "application/javascript": [
       "\n",
       "        if (window._pyforest_update_imports_cell) { window._pyforest_update_imports_cell('import pandas as pd\\nimport matplotlib.pyplot as plt'); }\n",
       "    "
      ],
      "text/plain": [
       "<IPython.core.display.Javascript object>"
      ]
     },
     "metadata": {},
     "output_type": "display_data"
    },
    {
     "data": {
      "application/javascript": [
       "\n",
       "        if (window._pyforest_update_imports_cell) { window._pyforest_update_imports_cell('import seaborn as sns\\nimport pandas as pd\\nimport matplotlib.pyplot as plt'); }\n",
       "    "
      ],
      "text/plain": [
       "<IPython.core.display.Javascript object>"
      ]
     },
     "metadata": {},
     "output_type": "display_data"
    },
    {
     "data": {
      "application/javascript": [
       "\n",
       "        if (window._pyforest_update_imports_cell) { window._pyforest_update_imports_cell('import seaborn as sns\\nimport pandas as pd\\nimport matplotlib.pyplot as plt'); }\n",
       "    "
      ],
      "text/plain": [
       "<IPython.core.display.Javascript object>"
      ]
     },
     "metadata": {},
     "output_type": "display_data"
    },
    {
     "data": {
      "application/javascript": [
       "\n",
       "        if (window._pyforest_update_imports_cell) { window._pyforest_update_imports_cell('import seaborn as sns\\nimport pandas as pd\\nimport matplotlib.pyplot as plt'); }\n",
       "    "
      ],
      "text/plain": [
       "<IPython.core.display.Javascript object>"
      ]
     },
     "metadata": {},
     "output_type": "display_data"
    },
    {
     "data": {
      "application/javascript": [
       "\n",
       "        if (window._pyforest_update_imports_cell) { window._pyforest_update_imports_cell('import seaborn as sns\\nimport pandas as pd\\nimport matplotlib.pyplot as plt'); }\n",
       "    "
      ],
      "text/plain": [
       "<IPython.core.display.Javascript object>"
      ]
     },
     "metadata": {},
     "output_type": "display_data"
    },
    {
     "data": {
      "application/javascript": [
       "\n",
       "        if (window._pyforest_update_imports_cell) { window._pyforest_update_imports_cell('import seaborn as sns\\nimport pandas as pd\\nimport matplotlib.pyplot as plt'); }\n",
       "    "
      ],
      "text/plain": [
       "<IPython.core.display.Javascript object>"
      ]
     },
     "metadata": {},
     "output_type": "display_data"
    },
    {
     "data": {
      "application/javascript": [
       "\n",
       "        if (window._pyforest_update_imports_cell) { window._pyforest_update_imports_cell('import seaborn as sns\\nimport pandas as pd\\nimport matplotlib.pyplot as plt'); }\n",
       "    "
      ],
      "text/plain": [
       "<IPython.core.display.Javascript object>"
      ]
     },
     "metadata": {},
     "output_type": "display_data"
    },
    {
     "data": {
      "application/javascript": [
       "\n",
       "        if (window._pyforest_update_imports_cell) { window._pyforest_update_imports_cell('import seaborn as sns\\nimport pandas as pd\\nimport matplotlib.pyplot as plt'); }\n",
       "    "
      ],
      "text/plain": [
       "<IPython.core.display.Javascript object>"
      ]
     },
     "metadata": {},
     "output_type": "display_data"
    },
    {
     "data": {
      "image/png": "[encoded data removed]",
      "text/plain": [
       "<Figure size 1200x600 with 1 Axes>"
      ]
     },
     "metadata": {},
     "output_type": "display_data"
    }
   ],
   "source": [
    "# Filter only purchase events\n",
    "purchase_hour = eCommerce_behavior_data[\n",
    "    eCommerce_behavior_data['event_type'] == 'purchase'\n",
    "].groupby('hour_label').size().reset_index(name='count')\n",
    "\n",
    "# Visualize with Seaborn\n",
    "plt.figure(figsize=(12, 6))\n",
    "sns.barplot(\n",
    "    data=purchase_hour,\n",
    "    x='hour_label',\n",
    "    y='count',\n",
    "    palette='Blues_d' \n",
    ")\n",
    "\n",
    "plt.title('Purchase Count by Hour Range')\n",
    "plt.grid(axis='y')\n",
    "plt.xlabel('Hour Range')\n",
    "plt.ylabel('Purchase Count')\n",
    "plt.tight_layout()\n",
    "plt.show()\n"
   ]
  },
  {
   "cell_type": "code",
   "execution_count": 28,
   "id": "b4c3e268-4c4f-4571-b91b-c2f7adc1fead",
   "metadata": {},
   "outputs": [
    {
     "data": {
      "application/javascript": [
       "\n",
       "        if (window._pyforest_update_imports_cell) { window._pyforest_update_imports_cell('import seaborn as sns\\nimport pandas as pd\\nimport matplotlib.pyplot as plt'); }\n",
       "    "
      ],
      "text/plain": [
       "<IPython.core.display.Javascript object>"
      ]
     },
     "metadata": {},
     "output_type": "display_data"
    },
    {
     "data": {
      "application/javascript": [
       "\n",
       "        if (window._pyforest_update_imports_cell) { window._pyforest_update_imports_cell('import seaborn as sns\\nimport pandas as pd\\nimport matplotlib.pyplot as plt'); }\n",
       "    "
      ],
      "text/plain": [
       "<IPython.core.display.Javascript object>"
      ]
     },
     "metadata": {},
     "output_type": "display_data"
    },
    {
     "data": {
      "application/javascript": [
       "\n",
       "        if (window._pyforest_update_imports_cell) { window._pyforest_update_imports_cell('import seaborn as sns\\nimport pandas as pd\\nimport matplotlib.pyplot as plt'); }\n",
       "    "
      ],
      "text/plain": [
       "<IPython.core.display.Javascript object>"
      ]
     },
     "metadata": {},
     "output_type": "display_data"
    },
    {
     "data": {
      "application/javascript": [
       "\n",
       "        if (window._pyforest_update_imports_cell) { window._pyforest_update_imports_cell('import seaborn as sns\\nimport pandas as pd\\nimport matplotlib.pyplot as plt'); }\n",
       "    "
      ],
      "text/plain": [
       "<IPython.core.display.Javascript object>"
      ]
     },
     "metadata": {},
     "output_type": "display_data"
    },
    {
     "data": {
      "application/javascript": [
       "\n",
       "        if (window._pyforest_update_imports_cell) { window._pyforest_update_imports_cell('import seaborn as sns\\nimport pandas as pd\\nimport matplotlib.pyplot as plt'); }\n",
       "    "
      ],
      "text/plain": [
       "<IPython.core.display.Javascript object>"
      ]
     },
     "metadata": {},
     "output_type": "display_data"
    },
    {
     "data": {
      "application/javascript": [
       "\n",
       "        if (window._pyforest_update_imports_cell) { window._pyforest_update_imports_cell('import seaborn as sns\\nimport pandas as pd\\nimport matplotlib.pyplot as plt'); }\n",
       "    "
      ],
      "text/plain": [
       "<IPython.core.display.Javascript object>"
      ]
     },
     "metadata": {},
     "output_type": "display_data"
    },
    {
     "data": {
      "application/javascript": [
       "\n",
       "        if (window._pyforest_update_imports_cell) { window._pyforest_update_imports_cell('import seaborn as sns\\nimport pandas as pd\\nimport matplotlib.pyplot as plt'); }\n",
       "    "
      ],
      "text/plain": [
       "<IPython.core.display.Javascript object>"
      ]
     },
     "metadata": {},
     "output_type": "display_data"
    },
    {
     "data": {
      "application/javascript": [
       "\n",
       "        if (window._pyforest_update_imports_cell) { window._pyforest_update_imports_cell('import seaborn as sns\\nimport pandas as pd\\nimport matplotlib.pyplot as plt'); }\n",
       "    "
      ],
      "text/plain": [
       "<IPython.core.display.Javascript object>"
      ]
     },
     "metadata": {},
     "output_type": "display_data"
    },
    {
     "data": {
      "application/javascript": [
       "\n",
       "        if (window._pyforest_update_imports_cell) { window._pyforest_update_imports_cell('import seaborn as sns\\nimport pandas as pd\\nimport matplotlib.pyplot as plt'); }\n",
       "    "
      ],
      "text/plain": [
       "<IPython.core.display.Javascript object>"
      ]
     },
     "metadata": {},
     "output_type": "display_data"
    },
    {
     "data": {
      "image/png": "[encoded data removed]",
      "text/plain": [
       "<Figure size 1200x600 with 1 Axes>"
      ]
     },
     "metadata": {},
     "output_type": "display_data"
    }
   ],
   "source": [
    "category_code_price = (\n",
    "    eCommerce_behavior_data\n",
    "    .groupby('category_code')['price']\n",
    "    .sum()\n",
    "    .reset_index()\n",
    "    .sort_values(by='price', ascending=False)\n",
    ")\n",
    "\n",
    "plt.figure(figsize=(12, 6))\n",
    "sns.barplot(\n",
    "    data=category_code_price.head(10),\n",
    "    x='category_code',\n",
    "    y='price',\n",
    "      # make sure `palette` is defined or use a Seaborn palette like 'Blues_d'\n",
    ")\n",
    "\n",
    "plt.title('Amount Spent on Each category_code')\n",
    "plt.grid(axis='y')\n",
    "plt.xlabel('ategory Code')\n",
    "plt.ylabel('Total Price')\n",
    "plt.xticks(rotation=90)\n",
    "plt.tight_layout()\n",
    "plt.show()\n"
   ]
  },
  {
   "cell_type": "code",
   "execution_count": 29,
   "id": "c130238f-1e89-46a9-a748-c749f2f57268",
   "metadata": {},
   "outputs": [
    {
     "data": {
      "application/javascript": [
       "\n",
       "        if (window._pyforest_update_imports_cell) { window._pyforest_update_imports_cell('import seaborn as sns\\nimport pandas as pd\\nimport matplotlib.pyplot as plt'); }\n",
       "    "
      ],
      "text/plain": [
       "<IPython.core.display.Javascript object>"
      ]
     },
     "metadata": {},
     "output_type": "display_data"
    },
    {
     "data": {
      "application/javascript": [
       "\n",
       "        if (window._pyforest_update_imports_cell) { window._pyforest_update_imports_cell('import seaborn as sns\\nimport pandas as pd\\nimport matplotlib.pyplot as plt'); }\n",
       "    "
      ],
      "text/plain": [
       "<IPython.core.display.Javascript object>"
      ]
     },
     "metadata": {},
     "output_type": "display_data"
    },
    {
     "data": {
      "application/javascript": [
       "\n",
       "        if (window._pyforest_update_imports_cell) { window._pyforest_update_imports_cell('import seaborn as sns\\nimport pandas as pd\\nimport matplotlib.pyplot as plt'); }\n",
       "    "
      ],
      "text/plain": [
       "<IPython.core.display.Javascript object>"
      ]
     },
     "metadata": {},
     "output_type": "display_data"
    },
    {
     "data": {
      "application/javascript": [
       "\n",
       "        if (window._pyforest_update_imports_cell) { window._pyforest_update_imports_cell('import seaborn as sns\\nimport pandas as pd\\nimport matplotlib.pyplot as plt'); }\n",
       "    "
      ],
      "text/plain": [
       "<IPython.core.display.Javascript object>"
      ]
     },
     "metadata": {},
     "output_type": "display_data"
    },
    {
     "data": {
      "application/javascript": [
       "\n",
       "        if (window._pyforest_update_imports_cell) { window._pyforest_update_imports_cell('import seaborn as sns\\nimport pandas as pd\\nimport matplotlib.pyplot as plt'); }\n",
       "    "
      ],
      "text/plain": [
       "<IPython.core.display.Javascript object>"
      ]
     },
     "metadata": {},
     "output_type": "display_data"
    },
    {
     "data": {
      "application/javascript": [
       "\n",
       "        if (window._pyforest_update_imports_cell) { window._pyforest_update_imports_cell('import seaborn as sns\\nimport pandas as pd\\nimport matplotlib.pyplot as plt'); }\n",
       "    "
      ],
      "text/plain": [
       "<IPython.core.display.Javascript object>"
      ]
     },
     "metadata": {},
     "output_type": "display_data"
    },
    {
     "data": {
      "application/javascript": [
       "\n",
       "        if (window._pyforest_update_imports_cell) { window._pyforest_update_imports_cell('import seaborn as sns\\nimport pandas as pd\\nimport matplotlib.pyplot as plt'); }\n",
       "    "
      ],
      "text/plain": [
       "<IPython.core.display.Javascript object>"
      ]
     },
     "metadata": {},
     "output_type": "display_data"
    },
    {
     "data": {
      "application/javascript": [
       "\n",
       "        if (window._pyforest_update_imports_cell) { window._pyforest_update_imports_cell('import seaborn as sns\\nimport pandas as pd\\nimport matplotlib.pyplot as plt'); }\n",
       "    "
      ],
      "text/plain": [
       "<IPython.core.display.Javascript object>"
      ]
     },
     "metadata": {},
     "output_type": "display_data"
    },
    {
     "data": {
      "image/png": "[encoded data removed]",
      "text/plain": [
       "<Figure size 1200x600 with 1 Axes>"
      ]
     },
     "metadata": {},
     "output_type": "display_data"
    }
   ],
   "source": [
    "# Group and sum prices by event_type and brand\n",
    "brand_event_price = (\n",
    "    eCommerce_behavior_data\n",
    "    .groupby(['event_type', 'brand'])['price']\n",
    "    .sum()\n",
    "    .reset_index()\n",
    "    .sort_values(by='price', ascending=False)\n",
    ")\n",
    "\n",
    "# Select top 10 most expensive brands\n",
    "top_brands = brand_event_price.head(10)\n",
    "\n",
    "# Plot\n",
    "plt.figure(figsize=(12, 6))\n",
    "sns.barplot(\n",
    "    data=top_brands,\n",
    "    x='brand',\n",
    "    y='price',\n",
    "    hue='event_type',\n",
    "    palette='Set2'  \n",
    ")\n",
    "\n",
    "plt.title('Top 10 Most Expensive Brands by Event Type')\n",
    "plt.xlabel('Brand')\n",
    "plt.ylabel('Total Price')\n",
    "plt.xticks(rotation=45)\n",
    "\n",
    "plt.tight_layout()\n",
    "plt.show()\n",
    "\n"
   ]
  },
  {
   "cell_type": "markdown",
   "id": "48ad1cbb-b089-4b93-b124-aa012c3941e1",
   "metadata": {},
   "source": [
    "# Funnel Analyisis"
   ]
  },
  {
   "cell_type": "code",
   "execution_count": 30,
   "id": "ee24f185-57e7-4407-8b36-4701d35616bd",
   "metadata": {},
   "outputs": [
    {
     "data": {
      "text/html": [
       "<div>\n",
       "<style scoped>\n",
       "    .dataframe tbody tr th:only-of-type {\n",
       "        vertical-align: middle;\n",
       "    }\n",
       "\n",
       "    .dataframe tbody tr th {\n",
       "        vertical-align: top;\n",
       "    }\n",
       "\n",
       "    .dataframe thead th {\n",
       "        text-align: right;\n",
       "    }\n",
       "</style>\n",
       "<table border=\"1\" class=\"dataframe\">\n",
       "  <thead>\n",
       "    <tr style=\"text-align: right;\">\n",
       "      <th>event_type</th>\n",
       "      <th>view</th>\n",
       "      <th>cart</th>\n",
       "      <th>purchase</th>\n",
       "      <th>view_to_cart</th>\n",
       "      <th>cart_to_purchase</th>\n",
       "      <th>view_to_purchase</th>\n",
       "    </tr>\n",
       "    <tr>\n",
       "      <th>category_code</th>\n",
       "      <th></th>\n",
       "      <th></th>\n",
       "      <th></th>\n",
       "      <th></th>\n",
       "      <th></th>\n",
       "      <th></th>\n",
       "    </tr>\n",
       "  </thead>\n",
       "  <tbody>\n",
       "    <tr>\n",
       "      <th>apparel.belt</th>\n",
       "      <td>7.0</td>\n",
       "      <td>0.0</td>\n",
       "      <td>1.0</td>\n",
       "      <td>0.000000</td>\n",
       "      <td>inf</td>\n",
       "      <td>0.142857</td>\n",
       "    </tr>\n",
       "    <tr>\n",
       "      <th>appliances.environment.water_heater</th>\n",
       "      <td>247.0</td>\n",
       "      <td>9.0</td>\n",
       "      <td>25.0</td>\n",
       "      <td>0.036437</td>\n",
       "      <td>2.777778</td>\n",
       "      <td>0.101215</td>\n",
       "    </tr>\n",
       "    <tr>\n",
       "      <th>electronics.smartphone</th>\n",
       "      <td>19213.0</td>\n",
       "      <td>1693.0</td>\n",
       "      <td>1944.0</td>\n",
       "      <td>0.088117</td>\n",
       "      <td>1.148258</td>\n",
       "      <td>0.101181</td>\n",
       "    </tr>\n",
       "    <tr>\n",
       "      <th>appliances.personal.scales</th>\n",
       "      <td>125.0</td>\n",
       "      <td>1.0</td>\n",
       "      <td>12.0</td>\n",
       "      <td>0.008000</td>\n",
       "      <td>12.000000</td>\n",
       "      <td>0.096000</td>\n",
       "    </tr>\n",
       "    <tr>\n",
       "      <th>auto.accessories.radar</th>\n",
       "      <td>42.0</td>\n",
       "      <td>5.0</td>\n",
       "      <td>4.0</td>\n",
       "      <td>0.119048</td>\n",
       "      <td>0.800000</td>\n",
       "      <td>0.095238</td>\n",
       "    </tr>\n",
       "    <tr>\n",
       "      <th>kids.fmcg.diapers</th>\n",
       "      <td>73.0</td>\n",
       "      <td>0.0</td>\n",
       "      <td>6.0</td>\n",
       "      <td>0.000000</td>\n",
       "      <td>inf</td>\n",
       "      <td>0.082192</td>\n",
       "    </tr>\n",
       "    <tr>\n",
       "      <th>electronics.audio.headphone</th>\n",
       "      <td>2525.0</td>\n",
       "      <td>183.0</td>\n",
       "      <td>202.0</td>\n",
       "      <td>0.072475</td>\n",
       "      <td>1.103825</td>\n",
       "      <td>0.080000</td>\n",
       "    </tr>\n",
       "    <tr>\n",
       "      <th>computers.components.cooler</th>\n",
       "      <td>66.0</td>\n",
       "      <td>0.0</td>\n",
       "      <td>5.0</td>\n",
       "      <td>0.000000</td>\n",
       "      <td>inf</td>\n",
       "      <td>0.075758</td>\n",
       "    </tr>\n",
       "    <tr>\n",
       "      <th>appliances.iron</th>\n",
       "      <td>229.0</td>\n",
       "      <td>2.0</td>\n",
       "      <td>16.0</td>\n",
       "      <td>0.008734</td>\n",
       "      <td>8.000000</td>\n",
       "      <td>0.069869</td>\n",
       "    </tr>\n",
       "    <tr>\n",
       "      <th>appliances.kitchen.washer</th>\n",
       "      <td>1444.0</td>\n",
       "      <td>18.0</td>\n",
       "      <td>98.0</td>\n",
       "      <td>0.012465</td>\n",
       "      <td>5.444444</td>\n",
       "      <td>0.067867</td>\n",
       "    </tr>\n",
       "  </tbody>\n",
       "</table>\n",
       "</div>"
      ],
      "text/plain": [
       "event_type                              view    cart  purchase  view_to_cart  \\\n",
       "category_code                                                                  \n",
       "apparel.belt                             7.0     0.0       1.0      0.000000   \n",
       "appliances.environment.water_heater    247.0     9.0      25.0      0.036437   \n",
       "electronics.smartphone               19213.0  1693.0    1944.0      0.088117   \n",
       "appliances.personal.scales             125.0     1.0      12.0      0.008000   \n",
       "auto.accessories.radar                  42.0     5.0       4.0      0.119048   \n",
       "kids.fmcg.diapers                       73.0     0.0       6.0      0.000000   \n",
       "electronics.audio.headphone           2525.0   183.0     202.0      0.072475   \n",
       "computers.components.cooler             66.0     0.0       5.0      0.000000   \n",
       "appliances.iron                        229.0     2.0      16.0      0.008734   \n",
       "appliances.kitchen.washer             1444.0    18.0      98.0      0.012465   \n",
       "\n",
       "event_type                           cart_to_purchase  view_to_purchase  \n",
       "category_code                                                            \n",
       "apparel.belt                                      inf          0.142857  \n",
       "appliances.environment.water_heater          2.777778          0.101215  \n",
       "electronics.smartphone                       1.148258          0.101181  \n",
       "appliances.personal.scales                  12.000000          0.096000  \n",
       "auto.accessories.radar                       0.800000          0.095238  \n",
       "kids.fmcg.diapers                                 inf          0.082192  \n",
       "electronics.audio.headphone                  1.103825          0.080000  \n",
       "computers.components.cooler                       inf          0.075758  \n",
       "appliances.iron                              8.000000          0.069869  \n",
       "appliances.kitchen.washer                    5.444444          0.067867  "
      ]
     },
     "execution_count": 30,
     "metadata": {},
     "output_type": "execute_result"
    }
   ],
   "source": [
    "\n",
    "# Category-level conversion analysis\n",
    "category_funnel = eCommerce_behavior_data.groupby(['category_code', 'event_type'])['user_id'].nunique().unstack().fillna(0)\n",
    "\n",
    "# Conversion rates\n",
    "category_funnel['view_to_cart'] = category_funnel['cart'] / category_funnel['view']\n",
    "category_funnel['cart_to_purchase'] = category_funnel['purchase'] / category_funnel['cart']\n",
    "category_funnel['view_to_purchase'] = category_funnel['purchase'] / category_funnel['view']\n",
    "\n",
    "# Clean and sort\n",
    "category_funnel = category_funnel.sort_values('view_to_purchase', ascending=False)\n",
    "category_funnel[['view', 'cart', 'purchase', 'view_to_cart', 'cart_to_purchase', 'view_to_purchase']].head(10)"
   ]
  },
  {
   "cell_type": "code",
   "execution_count": 32,
   "id": "571d61dc-bee0-4200-a3f0-4c6733b47629",
   "metadata": {},
   "outputs": [
    {
     "data": {
      "application/javascript": [
       "\n",
       "        if (window._pyforest_update_imports_cell) { window._pyforest_update_imports_cell('import seaborn as sns\\nimport pandas as pd\\nimport matplotlib.pyplot as plt'); }\n",
       "    "
      ],
      "text/plain": [
       "<IPython.core.display.Javascript object>"
      ]
     },
     "metadata": {},
     "output_type": "display_data"
    },
    {
     "data": {
      "application/javascript": [
       "\n",
       "        if (window._pyforest_update_imports_cell) { window._pyforest_update_imports_cell('import seaborn as sns\\nimport pandas as pd\\nimport matplotlib.pyplot as plt'); }\n",
       "    "
      ],
      "text/plain": [
       "<IPython.core.display.Javascript object>"
      ]
     },
     "metadata": {},
     "output_type": "display_data"
    },
    {
     "data": {
      "application/javascript": [
       "\n",
       "        if (window._pyforest_update_imports_cell) { window._pyforest_update_imports_cell('import seaborn as sns\\nimport pandas as pd\\nimport matplotlib.pyplot as plt'); }\n",
       "    "
      ],
      "text/plain": [
       "<IPython.core.display.Javascript object>"
      ]
     },
     "metadata": {},
     "output_type": "display_data"
    },
    {
     "data": {
      "application/javascript": [
       "\n",
       "        if (window._pyforest_update_imports_cell) { window._pyforest_update_imports_cell('import seaborn as sns\\nimport pandas as pd\\nimport matplotlib.pyplot as plt'); }\n",
       "    "
      ],
      "text/plain": [
       "<IPython.core.display.Javascript object>"
      ]
     },
     "metadata": {},
     "output_type": "display_data"
    },
    {
     "data": {
      "application/javascript": [
       "\n",
       "        if (window._pyforest_update_imports_cell) { window._pyforest_update_imports_cell('import seaborn as sns\\nimport pandas as pd\\nimport matplotlib.pyplot as plt'); }\n",
       "    "
      ],
      "text/plain": [
       "<IPython.core.display.Javascript object>"
      ]
     },
     "metadata": {},
     "output_type": "display_data"
    },
    {
     "data": {
      "application/javascript": [
       "\n",
       "        if (window._pyforest_update_imports_cell) { window._pyforest_update_imports_cell('import seaborn as sns\\nimport pandas as pd\\nimport matplotlib.pyplot as plt'); }\n",
       "    "
      ],
      "text/plain": [
       "<IPython.core.display.Javascript object>"
      ]
     },
     "metadata": {},
     "output_type": "display_data"
    },
    {
     "data": {
      "application/javascript": [
       "\n",
       "        if (window._pyforest_update_imports_cell) { window._pyforest_update_imports_cell('import seaborn as sns\\nimport pandas as pd\\nimport matplotlib.pyplot as plt'); }\n",
       "    "
      ],
      "text/plain": [
       "<IPython.core.display.Javascript object>"
      ]
     },
     "metadata": {},
     "output_type": "display_data"
    },
    {
     "data": {
      "application/javascript": [
       "\n",
       "        if (window._pyforest_update_imports_cell) { window._pyforest_update_imports_cell('import seaborn as sns\\nimport pandas as pd\\nimport matplotlib.pyplot as plt'); }\n",
       "    "
      ],
      "text/plain": [
       "<IPython.core.display.Javascript object>"
      ]
     },
     "metadata": {},
     "output_type": "display_data"
    },
    {
     "data": {
      "image/png": "[encoded data removed]",
      "text/plain": [
       "<Figure size 1000x600 with 1 Axes>"
      ]
     },
     "metadata": {},
     "output_type": "display_data"
    }
   ],
   "source": [
    "top_cats = category_funnel.sort_values('view_to_purchase', ascending=False).head(10)\n",
    "\n",
    "plt.figure(figsize=(10,6))\n",
    "sns.barplot(x=top_cats.index, y=top_cats['view_to_purchase'])\n",
    "plt.xticks(rotation=45, ha='right')\n",
    "plt.title('Top 10 Categories by View → Purchase Conversion Rate')\n",
    "plt.ylabel('Conversion Rate')\n",
    "plt.xlabel('Category')\n",
    "plt.tight_layout()\n",
    "plt.show()"
   ]
  },
  {
   "cell_type": "code",
   "execution_count": 33,
   "id": "4c38c920-3939-4373-be19-be9e3f3a5cb0",
   "metadata": {},
   "outputs": [
    {
     "data": {
      "text/html": [
       "<div>\n",
       "<style scoped>\n",
       "    .dataframe tbody tr th:only-of-type {\n",
       "        vertical-align: middle;\n",
       "    }\n",
       "\n",
       "    .dataframe tbody tr th {\n",
       "        vertical-align: top;\n",
       "    }\n",
       "\n",
       "    .dataframe thead th {\n",
       "        text-align: right;\n",
       "    }\n",
       "</style>\n",
       "<table border=\"1\" class=\"dataframe\">\n",
       "  <thead>\n",
       "    <tr style=\"text-align: right;\">\n",
       "      <th>event_type</th>\n",
       "      <th>cart</th>\n",
       "      <th>purchase</th>\n",
       "      <th>view</th>\n",
       "      <th>view_to_cart</th>\n",
       "      <th>cart_to_purchase</th>\n",
       "      <th>view_to_purchase</th>\n",
       "    </tr>\n",
       "    <tr>\n",
       "      <th>category_code</th>\n",
       "      <th></th>\n",
       "      <th></th>\n",
       "      <th></th>\n",
       "      <th></th>\n",
       "      <th></th>\n",
       "      <th></th>\n",
       "    </tr>\n",
       "  </thead>\n",
       "  <tbody>\n",
       "    <tr>\n",
       "      <th>apparel.belt</th>\n",
       "      <td>0.0</td>\n",
       "      <td>1.0</td>\n",
       "      <td>7.0</td>\n",
       "      <td>0.000000</td>\n",
       "      <td>inf</td>\n",
       "      <td>0.142857</td>\n",
       "    </tr>\n",
       "    <tr>\n",
       "      <th>appliances.environment.water_heater</th>\n",
       "      <td>9.0</td>\n",
       "      <td>25.0</td>\n",
       "      <td>247.0</td>\n",
       "      <td>0.036437</td>\n",
       "      <td>2.777778</td>\n",
       "      <td>0.101215</td>\n",
       "    </tr>\n",
       "    <tr>\n",
       "      <th>electronics.smartphone</th>\n",
       "      <td>1693.0</td>\n",
       "      <td>1944.0</td>\n",
       "      <td>19213.0</td>\n",
       "      <td>0.088117</td>\n",
       "      <td>1.148258</td>\n",
       "      <td>0.101181</td>\n",
       "    </tr>\n",
       "    <tr>\n",
       "      <th>appliances.personal.scales</th>\n",
       "      <td>1.0</td>\n",
       "      <td>12.0</td>\n",
       "      <td>125.0</td>\n",
       "      <td>0.008000</td>\n",
       "      <td>12.000000</td>\n",
       "      <td>0.096000</td>\n",
       "    </tr>\n",
       "    <tr>\n",
       "      <th>auto.accessories.radar</th>\n",
       "      <td>5.0</td>\n",
       "      <td>4.0</td>\n",
       "      <td>42.0</td>\n",
       "      <td>0.119048</td>\n",
       "      <td>0.800000</td>\n",
       "      <td>0.095238</td>\n",
       "    </tr>\n",
       "    <tr>\n",
       "      <th>kids.fmcg.diapers</th>\n",
       "      <td>0.0</td>\n",
       "      <td>6.0</td>\n",
       "      <td>73.0</td>\n",
       "      <td>0.000000</td>\n",
       "      <td>inf</td>\n",
       "      <td>0.082192</td>\n",
       "    </tr>\n",
       "    <tr>\n",
       "      <th>electronics.audio.headphone</th>\n",
       "      <td>183.0</td>\n",
       "      <td>202.0</td>\n",
       "      <td>2525.0</td>\n",
       "      <td>0.072475</td>\n",
       "      <td>1.103825</td>\n",
       "      <td>0.080000</td>\n",
       "    </tr>\n",
       "    <tr>\n",
       "      <th>computers.components.cooler</th>\n",
       "      <td>0.0</td>\n",
       "      <td>5.0</td>\n",
       "      <td>66.0</td>\n",
       "      <td>0.000000</td>\n",
       "      <td>inf</td>\n",
       "      <td>0.075758</td>\n",
       "    </tr>\n",
       "    <tr>\n",
       "      <th>appliances.iron</th>\n",
       "      <td>2.0</td>\n",
       "      <td>16.0</td>\n",
       "      <td>229.0</td>\n",
       "      <td>0.008734</td>\n",
       "      <td>8.000000</td>\n",
       "      <td>0.069869</td>\n",
       "    </tr>\n",
       "    <tr>\n",
       "      <th>appliances.kitchen.washer</th>\n",
       "      <td>18.0</td>\n",
       "      <td>98.0</td>\n",
       "      <td>1444.0</td>\n",
       "      <td>0.012465</td>\n",
       "      <td>5.444444</td>\n",
       "      <td>0.067867</td>\n",
       "    </tr>\n",
       "  </tbody>\n",
       "</table>\n",
       "</div>"
      ],
      "text/plain": [
       "event_type                             cart  purchase     view  view_to_cart  \\\n",
       "category_code                                                                  \n",
       "apparel.belt                            0.0       1.0      7.0      0.000000   \n",
       "appliances.environment.water_heater     9.0      25.0    247.0      0.036437   \n",
       "electronics.smartphone               1693.0    1944.0  19213.0      0.088117   \n",
       "appliances.personal.scales              1.0      12.0    125.0      0.008000   \n",
       "auto.accessories.radar                  5.0       4.0     42.0      0.119048   \n",
       "kids.fmcg.diapers                       0.0       6.0     73.0      0.000000   \n",
       "electronics.audio.headphone           183.0     202.0   2525.0      0.072475   \n",
       "computers.components.cooler             0.0       5.0     66.0      0.000000   \n",
       "appliances.iron                         2.0      16.0    229.0      0.008734   \n",
       "appliances.kitchen.washer              18.0      98.0   1444.0      0.012465   \n",
       "\n",
       "event_type                           cart_to_purchase  view_to_purchase  \n",
       "category_code                                                            \n",
       "apparel.belt                                      inf          0.142857  \n",
       "appliances.environment.water_heater          2.777778          0.101215  \n",
       "electronics.smartphone                       1.148258          0.101181  \n",
       "appliances.personal.scales                  12.000000          0.096000  \n",
       "auto.accessories.radar                       0.800000          0.095238  \n",
       "kids.fmcg.diapers                                 inf          0.082192  \n",
       "electronics.audio.headphone                  1.103825          0.080000  \n",
       "computers.components.cooler                       inf          0.075758  \n",
       "appliances.iron                              8.000000          0.069869  \n",
       "appliances.kitchen.washer                    5.444444          0.067867  "
      ]
     },
     "execution_count": 33,
     "metadata": {},
     "output_type": "execute_result"
    }
   ],
   "source": [
    "top_cats"
   ]
  },
  {
   "cell_type": "markdown",
   "id": "c69f36dd-cd51-4146-86ad-d9e8635ae37c",
   "metadata": {},
   "source": [
    "# 📊 Project Summary: Product Funnel Breakdown by Categories\n",
    "\n",
    "This project analyzes funnel behavior across product categories using event data from a multi-category ecommerce store. The goal was to understand how products move through the funnel — from views, to cart, to purchases — and identify the most converting categories.\n",
    "\n",
    "---\n",
    "\n",
    "## 🔍 Key Findings\n",
    "\n",
    "### Total Views\n",
    "- The dataset recorded **290,150 product views** across all categories.\n",
    "\n",
    "### Temporal Insights Were Not Useful\n",
    "- Every purchase occurred on a **Friday**, specifically around **5:00 AM**.\n",
    "- This consistent pattern made the **date column irrelevant** for meaningful time-based insights.\n",
    "- ✅ **Dropped the date column** from further analysis.\n",
    "\n",
    "### Conversion Spike Timing\n",
    "- **Purchases peaked sharply at 5:00 AM** and dropped off by 6:00 AM.\n",
    "- Suggests the store logs all successful purchases in a **short, fixed time window**.\n",
    "\n",
    "---\n",
    "\n",
    "## 📦 Category Breakdown — Conversion Rates\n",
    "\n",
    "Focusing on the top-performing product categories:\n",
    "\n",
    "- **apparel.belt**\n",
    "  - 1 purchase from 7 views.\n",
    "  - No carts recorded.\n",
    "  - **View-to-purchase rate: 14.29%**\n",
    "  - ➡️ Possible data issue or direct purchase behavior.\n",
    "\n",
    "- **appliances.environment.water_heater** & **electronics.smartphone**\n",
    "  - **View-to-purchase rate: 10.1%**\n",
    "  - Strong performers in high-traffic segments.\n",
    "\n",
    "- **appliances.personal.scales** & **auto.accessories.radar**\n",
    "  - Showed strong funnel completion despite low view volumes.\n",
    "\n",
    "- **kids.fmcg.diapers** & **computers.components.cooler**\n",
    "  - Had purchases **without any carts**.\n",
    "  - ➡️ Indicates direct purchases or missing cart event logs.\n",
    "\n",
    "---\n",
    "\n",
    "## 🧹 Missing or Irrelevant Data Cleaned\n",
    "\n",
    "- ❌ Dropped rows with missing `category_code`.\n",
    "- ❌ Removed datetime-based insights due to lack of variance.\n",
    "- ✅ Focused the funnel on **product behavior by category**, not individual users.\n",
    "\n",
    "---\n",
    "\n",
    "## 📌 What This Tells Us\n",
    "\n",
    "- Some products **convert well without cart events**, implying impulsive buying or logging issues.\n",
    "- Categories like **appliances.personal.scales** and **appliances.iron** show **high cart-to-purchase ratios**, indicating strong intent.\n",
    "- **Smartphones** and **water heaters** are top-performing categories with high traffic and **efficient funnel performance**.\n",
    "\n",
    "## We will be doing more analysis on powerbi"
   ]
  },
  {
   "cell_type": "code",
   "execution_count": 36,
   "id": "2dc1aae4-28d0-44b5-aab4-edaf77d7879d",
   "metadata": {},
   "outputs": [],
   "source": [
    "eCommerce_behavior_data.to_excel('Ecommerce_behavior.xlsx')\n",
    "top_cats.to_excel('top_catgories.xlsx')"
   ]
  },
  {
   "cell_type": "code",
   "execution_count": null,
   "id": "af1620de-8f43-4537-8385-775984362668",
   "metadata": {},
   "outputs": [],
   "source": []
  }
 ],
 "metadata": {
  "kernelspec": {
   "display_name": "Python 3 (ipykernel)",
   "language": "python",
   "name": "python3"
  },
  "language_info": {
   "codemirror_mode": {
    "name": "ipython",
    "version": 3
   },
   "file_extension": ".py",
   "mimetype": "text/x-python",
   "name": "python",
   "nbconvert_exporter": "python",
   "pygments_lexer": "ipython3",
   "version": "3.11.7"
  }
 },
 "nbformat": 4,
 "nbformat_minor": 5
}
